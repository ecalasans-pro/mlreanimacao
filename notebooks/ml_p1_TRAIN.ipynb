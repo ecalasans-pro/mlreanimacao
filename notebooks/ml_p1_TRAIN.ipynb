{
 "cells": [
  {
   "cell_type": "markdown",
   "source": [
    "# *Machine Learning* em Reanimação Neonatal\n",
    "Projeto 1 da Disciplina de Aprendizado de Máquina - PPgEEC/UFRN\n",
    "\n",
    "## Etapa 4 - TRAIN"
   ],
   "metadata": {
    "collapsed": false,
    "pycharm": {
     "name": "#%% md\n"
    }
   }
  },
  {
   "cell_type": "markdown",
   "metadata": {
    "pycharm": {
     "name": "#%% md\n"
    }
   },
   "source": [
    "Neste notebook será realizado o treinamento do algoritmo *Decision Tree* utilizando os artefatos criados na etapa de segregação."
   ]
  },
  {
   "cell_type": "markdown",
   "metadata": {
    "pycharm": {
     "name": "#%% md\n"
    }
   },
   "source": [
    "## 1.  Configuração do Ambiente e Leitura de Artefatos"
   ]
  },
  {
   "cell_type": "code",
   "execution_count": 2,
   "metadata": {
    "pycharm": {
     "name": "#%%\n"
    }
   },
   "outputs": [],
   "source": [
    "import logging\n",
    "import wandb\n",
    "import pandas as pd\n",
    "import numpy as np\n",
    "import joblib\n",
    "import matplotlib.pyplot as plt\n",
    "from sklearn.model_selection import train_test_split\n",
    "from sklearn.neighbors import LocalOutlierFactor\n",
    "from sklearn.preprocessing import LabelEncoder\n",
    "from sklearn.preprocessing import OneHotEncoder\n",
    "from sklearn.base import BaseEstimator, TransformerMixin\n",
    "from sklearn.preprocessing import MinMaxScaler\n",
    "from sklearn.preprocessing import StandardScaler\n",
    "from sklearn.preprocessing import OneHotEncoder\n",
    "from sklearn.pipeline import Pipeline, FeatureUnion\n",
    "from sklearn.tree import DecisionTreeClassifier\n",
    "from sklearn.impute import SimpleImputer\n",
    "from sklearn.metrics import fbeta_score, precision_score, recall_score, accuracy_score\n",
    "from sklearn.metrics import classification_report\n",
    "from sklearn.metrics import confusion_matrix\n",
    "from sklearn.metrics import ConfusionMatrixDisplay"
   ]
  },
  {
   "cell_type": "markdown",
   "metadata": {
    "pycharm": {
     "name": "#%% md\n"
    }
   },
   "source": [
    "Login no wandb"
   ]
  },
  {
   "cell_type": "code",
   "execution_count": 3,
   "metadata": {
    "pycharm": {
     "name": "#%%\n"
    }
   },
   "outputs": [
    {
     "name": "stdout",
     "output_type": "stream",
     "text": [
      "\u001B[34m\u001B[1mwandb\u001B[0m: Appending key for api.wandb.ai to your netrc file: /Users/ericcalasans/.netrc\r\n"
     ]
    }
   ],
   "source": [
    "!wandb login HASH --relogin"
   ]
  },
  {
   "cell_type": "markdown",
   "metadata": {
    "pycharm": {
     "name": "#%% md\n"
    }
   },
   "source": [
    "Variáveis globais"
   ]
  },
  {
   "cell_type": "code",
   "execution_count": 4,
   "metadata": {
    "pycharm": {
     "name": "#%%\n"
    }
   },
   "outputs": [],
   "source": [
    "# Tamanho do conjunto de teste(fração do dataset que é utilizada como dados de teste)\n",
    "val_size = 0.3\n",
    "\n",
    "# Coeficiente de aleatoriedade\n",
    "seed = 1618\n",
    "\n",
    "# Variável alvo(target)\n",
    "stratify = 'reanimacao'\n",
    "\n",
    "# Artefato de entrada\n",
    "input_artifact = 'mlreanimacao/train.csv:latest'\n",
    "\n",
    "# Tipo do artefato\n",
    "artifact_type = 'Train'"
   ]
  },
  {
   "cell_type": "markdown",
   "metadata": {
    "pycharm": {
     "name": "#%% md\n"
    }
   },
   "source": [
    "Configurações de log"
   ]
  },
  {
   "cell_type": "code",
   "execution_count": 5,
   "metadata": {
    "pycharm": {
     "name": "#%%\n"
    }
   },
   "outputs": [],
   "source": [
    "logging.basicConfig(level=logging.INFO,\n",
    "                    format=\"%(asctime)s %(message)s\",\n",
    "                    datefmt='%d-%m-%Y %H:%M:%S')\n",
    "\n",
    "# Objeto logging\n",
    "logger = logging.getLogger()"
   ]
  },
  {
   "cell_type": "markdown",
   "metadata": {
    "pycharm": {
     "name": "#%% md\n"
    }
   },
   "source": [
    "Captura de artefato"
   ]
  },
  {
   "cell_type": "code",
   "execution_count": 6,
   "metadata": {
    "pycharm": {
     "name": "#%%\n"
    }
   },
   "outputs": [
    {
     "name": "stderr",
     "output_type": "stream",
     "text": [
      "\u001B[34m\u001B[1mwandb\u001B[0m: Currently logged in as: \u001B[33mecalasans\u001B[0m (use `wandb login --relogin` to force relogin)\n"
     ]
    },
    {
     "data": {
      "text/plain": "<IPython.core.display.HTML object>",
      "text/html": "wandb version 0.12.17 is available!  To upgrade, please run:\n $ pip install wandb --upgrade"
     },
     "metadata": {},
     "output_type": "display_data"
    },
    {
     "data": {
      "text/plain": "<IPython.core.display.HTML object>",
      "text/html": "Tracking run with wandb version 0.12.15"
     },
     "metadata": {},
     "output_type": "display_data"
    },
    {
     "data": {
      "text/plain": "<IPython.core.display.HTML object>",
      "text/html": "Run data is saved locally in <code>/Users/ericcalasans/Documents/Projetos/ml_proj1/notebooks/wandb/run-20220603_145807-1tdehztx</code>"
     },
     "metadata": {},
     "output_type": "display_data"
    },
    {
     "data": {
      "text/plain": "<IPython.core.display.HTML object>",
      "text/html": "Syncing run <strong><a href=\"https://wandb.ai/ecalasans/mlreanimacao/runs/1tdehztx\" target=\"_blank\">solar-bee-33</a></strong> to <a href=\"https://wandb.ai/ecalasans/mlreanimacao\" target=\"_blank\">Weights & Biases</a> (<a href=\"https://wandb.me/run\" target=\"_blank\">docs</a>)<br/>"
     },
     "metadata": {},
     "output_type": "display_data"
    },
    {
     "name": "stderr",
     "output_type": "stream",
     "text": [
      "03-06-2022 14:58:17 Baixando artefato e realizando leitura...\n"
     ]
    }
   ],
   "source": [
    "run = wandb.init(project='mlreanimacao', job_type='train')\n",
    "\n",
    "# Registra um log desta ação\n",
    "logger.info(\"Baixando artefato e realizando leitura...\")\n",
    "artifact = run.use_artifact(input_artifact)\n",
    "artifact_file = artifact.file()\n",
    "df_to_split = pd.read_csv(artifact_file)"
   ]
  },
  {
   "cell_type": "markdown",
   "metadata": {
    "pycharm": {
     "name": "#%% md\n"
    }
   },
   "source": [
    "## 3.  Treinamento"
   ]
  },
  {
   "cell_type": "markdown",
   "metadata": {
    "pycharm": {
     "name": "#%% md\n"
    }
   },
   "source": [
    "Divisão do conjunto de treinamento"
   ]
  },
  {
   "cell_type": "code",
   "execution_count": 7,
   "metadata": {
    "pycharm": {
     "name": "#%%\n"
    }
   },
   "outputs": [
    {
     "name": "stderr",
     "output_type": "stream",
     "text": [
      "03-06-2022 14:58:23 Divisão em train/val\n"
     ]
    }
   ],
   "source": [
    "logger.info(\"Divisão em train/val\")\n",
    "\n",
    "x_train, x_val, y_train, y_val = train_test_split(df_to_split.drop(labels=stratify,axis=1),\n",
    "                                                  df_to_split[stratify],\n",
    "                                                  test_size=val_size,\n",
    "                                                  random_state=seed,\n",
    "                                                  shuffle=True,\n",
    "                                                  stratify=df_to_split[stratify])"
   ]
  },
  {
   "cell_type": "code",
   "execution_count": 8,
   "outputs": [
    {
     "data": {
      "text/plain": "     idade_materna    fumo    alcool psicoativas    tpp    dpp oligoamnio  \\\n351           32.0  n_fumo  n_alcool     n_psico  n_tpp  n_dpp    n_oligo   \n267           26.0  n_fumo  n_alcool     n_psico  s_tpp  n_dpp    n_oligo   \n189           21.0  n_fumo  n_alcool     n_psico  s_tpp  n_dpp    n_oligo   \n324           36.0  n_fumo  n_alcool     n_psico  n_tpp  n_dpp    n_oligo   \n229           21.0  n_fumo  n_alcool     n_psico  s_tpp  n_dpp    n_oligo   \n..             ...     ...       ...         ...    ...    ...        ...   \n309           39.0  n_fumo  n_alcool     n_psico  n_tpp  n_dpp    n_oligo   \n26            37.0  n_fumo  n_alcool     n_psico  n_tpp  n_dpp    s_oligo   \n228           26.0  n_fumo  n_alcool     n_psico  s_tpp  n_dpp    n_oligo   \n238           20.0  n_fumo  n_alcool     n_psico  n_tpp  n_dpp    n_oligo   \n58            35.0  n_fumo  n_alcool     n_psico  n_tpp  n_dpp    n_oligo   \n\n       sifilis    hiv covid_mae    dheg    dm       sexo  \n351  n_sifilis  n_hiv   n_covid  n_dheg  n_dm  Masculino  \n267  n_sifilis  n_hiv   n_covid  s_dheg  s_dm   Feminino  \n189  n_sifilis  n_hiv   n_covid  n_dheg  n_dm  Masculino  \n324  n_sifilis  n_hiv   n_covid  n_dheg  n_dm  Masculino  \n229  n_sifilis  n_hiv   n_covid  n_dheg  n_dm   Feminino  \n..         ...    ...       ...     ...   ...        ...  \n309  s_sifilis  n_hiv   n_covid  n_dheg  n_dm  Masculino  \n26   n_sifilis  n_hiv   n_covid  s_dheg  s_dm   Feminino  \n228  n_sifilis  n_hiv   n_covid  s_dheg  n_dm  Masculino  \n238  d_sifilis  d_hiv   n_covid  n_dheg  n_dm  Masculino  \n58   n_sifilis  n_hiv   n_covid  n_dheg  n_dm   Feminino  \n\n[246 rows x 13 columns]",
      "text/html": "<div>\n<style scoped>\n    .dataframe tbody tr th:only-of-type {\n        vertical-align: middle;\n    }\n\n    .dataframe tbody tr th {\n        vertical-align: top;\n    }\n\n    .dataframe thead th {\n        text-align: right;\n    }\n</style>\n<table border=\"1\" class=\"dataframe\">\n  <thead>\n    <tr style=\"text-align: right;\">\n      <th></th>\n      <th>idade_materna</th>\n      <th>fumo</th>\n      <th>alcool</th>\n      <th>psicoativas</th>\n      <th>tpp</th>\n      <th>dpp</th>\n      <th>oligoamnio</th>\n      <th>sifilis</th>\n      <th>hiv</th>\n      <th>covid_mae</th>\n      <th>dheg</th>\n      <th>dm</th>\n      <th>sexo</th>\n    </tr>\n  </thead>\n  <tbody>\n    <tr>\n      <th>351</th>\n      <td>32.0</td>\n      <td>n_fumo</td>\n      <td>n_alcool</td>\n      <td>n_psico</td>\n      <td>n_tpp</td>\n      <td>n_dpp</td>\n      <td>n_oligo</td>\n      <td>n_sifilis</td>\n      <td>n_hiv</td>\n      <td>n_covid</td>\n      <td>n_dheg</td>\n      <td>n_dm</td>\n      <td>Masculino</td>\n    </tr>\n    <tr>\n      <th>267</th>\n      <td>26.0</td>\n      <td>n_fumo</td>\n      <td>n_alcool</td>\n      <td>n_psico</td>\n      <td>s_tpp</td>\n      <td>n_dpp</td>\n      <td>n_oligo</td>\n      <td>n_sifilis</td>\n      <td>n_hiv</td>\n      <td>n_covid</td>\n      <td>s_dheg</td>\n      <td>s_dm</td>\n      <td>Feminino</td>\n    </tr>\n    <tr>\n      <th>189</th>\n      <td>21.0</td>\n      <td>n_fumo</td>\n      <td>n_alcool</td>\n      <td>n_psico</td>\n      <td>s_tpp</td>\n      <td>n_dpp</td>\n      <td>n_oligo</td>\n      <td>n_sifilis</td>\n      <td>n_hiv</td>\n      <td>n_covid</td>\n      <td>n_dheg</td>\n      <td>n_dm</td>\n      <td>Masculino</td>\n    </tr>\n    <tr>\n      <th>324</th>\n      <td>36.0</td>\n      <td>n_fumo</td>\n      <td>n_alcool</td>\n      <td>n_psico</td>\n      <td>n_tpp</td>\n      <td>n_dpp</td>\n      <td>n_oligo</td>\n      <td>n_sifilis</td>\n      <td>n_hiv</td>\n      <td>n_covid</td>\n      <td>n_dheg</td>\n      <td>n_dm</td>\n      <td>Masculino</td>\n    </tr>\n    <tr>\n      <th>229</th>\n      <td>21.0</td>\n      <td>n_fumo</td>\n      <td>n_alcool</td>\n      <td>n_psico</td>\n      <td>s_tpp</td>\n      <td>n_dpp</td>\n      <td>n_oligo</td>\n      <td>n_sifilis</td>\n      <td>n_hiv</td>\n      <td>n_covid</td>\n      <td>n_dheg</td>\n      <td>n_dm</td>\n      <td>Feminino</td>\n    </tr>\n    <tr>\n      <th>...</th>\n      <td>...</td>\n      <td>...</td>\n      <td>...</td>\n      <td>...</td>\n      <td>...</td>\n      <td>...</td>\n      <td>...</td>\n      <td>...</td>\n      <td>...</td>\n      <td>...</td>\n      <td>...</td>\n      <td>...</td>\n      <td>...</td>\n    </tr>\n    <tr>\n      <th>309</th>\n      <td>39.0</td>\n      <td>n_fumo</td>\n      <td>n_alcool</td>\n      <td>n_psico</td>\n      <td>n_tpp</td>\n      <td>n_dpp</td>\n      <td>n_oligo</td>\n      <td>s_sifilis</td>\n      <td>n_hiv</td>\n      <td>n_covid</td>\n      <td>n_dheg</td>\n      <td>n_dm</td>\n      <td>Masculino</td>\n    </tr>\n    <tr>\n      <th>26</th>\n      <td>37.0</td>\n      <td>n_fumo</td>\n      <td>n_alcool</td>\n      <td>n_psico</td>\n      <td>n_tpp</td>\n      <td>n_dpp</td>\n      <td>s_oligo</td>\n      <td>n_sifilis</td>\n      <td>n_hiv</td>\n      <td>n_covid</td>\n      <td>s_dheg</td>\n      <td>s_dm</td>\n      <td>Feminino</td>\n    </tr>\n    <tr>\n      <th>228</th>\n      <td>26.0</td>\n      <td>n_fumo</td>\n      <td>n_alcool</td>\n      <td>n_psico</td>\n      <td>s_tpp</td>\n      <td>n_dpp</td>\n      <td>n_oligo</td>\n      <td>n_sifilis</td>\n      <td>n_hiv</td>\n      <td>n_covid</td>\n      <td>s_dheg</td>\n      <td>n_dm</td>\n      <td>Masculino</td>\n    </tr>\n    <tr>\n      <th>238</th>\n      <td>20.0</td>\n      <td>n_fumo</td>\n      <td>n_alcool</td>\n      <td>n_psico</td>\n      <td>n_tpp</td>\n      <td>n_dpp</td>\n      <td>n_oligo</td>\n      <td>d_sifilis</td>\n      <td>d_hiv</td>\n      <td>n_covid</td>\n      <td>n_dheg</td>\n      <td>n_dm</td>\n      <td>Masculino</td>\n    </tr>\n    <tr>\n      <th>58</th>\n      <td>35.0</td>\n      <td>n_fumo</td>\n      <td>n_alcool</td>\n      <td>n_psico</td>\n      <td>n_tpp</td>\n      <td>n_dpp</td>\n      <td>n_oligo</td>\n      <td>n_sifilis</td>\n      <td>n_hiv</td>\n      <td>n_covid</td>\n      <td>n_dheg</td>\n      <td>n_dm</td>\n      <td>Feminino</td>\n    </tr>\n  </tbody>\n</table>\n<p>246 rows × 13 columns</p>\n</div>"
     },
     "execution_count": 8,
     "metadata": {},
     "output_type": "execute_result"
    }
   ],
   "source": [
    "x_train"
   ],
   "metadata": {
    "collapsed": false,
    "pycharm": {
     "name": "#%%\n"
    }
   }
  },
  {
   "cell_type": "code",
   "execution_count": 9,
   "outputs": [
    {
     "name": "stderr",
     "output_type": "stream",
     "text": [
      "03-06-2022 14:58:26 x train: (246, 13)\n",
      "03-06-2022 14:58:26 y train: (246,)\n",
      "03-06-2022 14:58:26 x val: (106, 13)\n",
      "03-06-2022 14:58:26 y val: (106,)\n"
     ]
    }
   ],
   "source": [
    "logger.info(\"x train: {}\".format(x_train.shape))\n",
    "logger.info(\"y train: {}\".format(y_train.shape))\n",
    "logger.info(\"x val: {}\".format(x_val.shape))\n",
    "logger.info(\"y val: {}\".format(y_val.shape))"
   ],
   "metadata": {
    "collapsed": false,
    "pycharm": {
     "name": "#%%\n"
    }
   }
  },
  {
   "cell_type": "markdown",
   "source": [
    "### 3.1. Preparação do *Dataset*"
   ],
   "metadata": {
    "collapsed": false,
    "pycharm": {
     "name": "#%% md\n"
    }
   }
  },
  {
   "cell_type": "markdown",
   "source": [
    "Remoção de *outliers* - só tem sentido com dados numéricos.\n",
    "\n",
    "Será considerada a *feature* **idade_materna** como possível fonte de *outliers* e um *boxplot* da feature revelará se existe outliers a serem tratados."
   ],
   "metadata": {
    "collapsed": false,
    "pycharm": {
     "name": "#%% md\n"
    }
   }
  },
  {
   "cell_type": "code",
   "execution_count": 9,
   "outputs": [
    {
     "data": {
      "text/plain": "<Figure size 432x288 with 1 Axes>",
      "image/png": "[encoded data removed]"
     },
     "metadata": {
      "needs_background": "light"
     },
     "output_type": "display_data"
    }
   ],
   "source": [
    "%matplotlib inline\n",
    "plt.boxplot(df_to_split['idade_materna'])\n",
    "plt.title('Outliers em idade_materna')\n",
    "plt.xlabel('idade_materna')\n",
    "plt.tick_params(\n",
    "    axis='x',\n",
    "    bottom=False,\n",
    "    labelbottom=False\n",
    ")\n",
    "plt.show()"
   ],
   "metadata": {
    "collapsed": false,
    "pycharm": {
     "name": "#%%\n"
    }
   }
  },
  {
   "cell_type": "markdown",
   "source": [
    "A princípio não parece haver *outliers* na *feature* porém será deixada a opção de tratamento para os mesmos em caso de surgirem no *dataset*."
   ],
   "metadata": {
    "collapsed": false,
    "pycharm": {
     "name": "#%% md\n"
    }
   }
  },
  {
   "cell_type": "code",
   "execution_count": 10,
   "outputs": [
    {
     "name": "stderr",
     "output_type": "stream",
     "text": [
      "03-06-2022 14:58:33 Remoção de outliers\n"
     ]
    }
   ],
   "source": [
    "logger.info(\"Remoção de outliers\")\n",
    "\n",
    "# Variável temporária\n",
    "x = x_train['idade_materna'].copy()\n",
    "\n",
    "# Redimensiona variável para adequar ao procedimento - técnica sugerida pela mensagem de erro\n",
    "x = x.values.reshape(-1, 1)\n",
    "\n",
    "# Identifica e prevê outliers em um único passo\n",
    "lof = LocalOutlierFactor()\n",
    "outlier = lof.fit_predict(x)\n",
    "mask = outlier != -1"
   ],
   "metadata": {
    "collapsed": false,
    "pycharm": {
     "name": "#%%\n"
    }
   }
  },
  {
   "cell_type": "code",
   "execution_count": 11,
   "outputs": [
    {
     "name": "stderr",
     "output_type": "stream",
     "text": [
      "03-06-2022 14:58:34 x_train shape [original]: (246, 13)\n",
      "03-06-2022 14:58:34 x_train shape [outlier removal]: (239, 13)\n"
     ]
    }
   ],
   "source": [
    "logger.info(\"x_train shape [original]: {}\".format(x_train.shape))\n",
    "logger.info(\"x_train shape [outlier removal]: {}\".format(x_train.loc[mask,:].shape))"
   ],
   "metadata": {
    "collapsed": false,
    "pycharm": {
     "name": "#%%\n"
    }
   }
  },
  {
   "cell_type": "markdown",
   "source": [
    "Após execução do passo anterior, percebe-se que o algoritmo considerou a existência de 7 *outliers* e os removeu, reduzindo o tamanho do *dataset*.  Desta forma o conjunto de treinamento será atualizado."
   ],
   "metadata": {
    "collapsed": false,
    "pycharm": {
     "name": "#%% md\n"
    }
   }
  },
  {
   "cell_type": "code",
   "execution_count": 12,
   "outputs": [],
   "source": [
    "x_train = x_train.loc[mask,:].copy()\n",
    "y_train = y_train[mask].copy()"
   ],
   "metadata": {
    "collapsed": false,
    "pycharm": {
     "name": "#%%\n"
    }
   }
  },
  {
   "cell_type": "code",
   "execution_count": 13,
   "outputs": [
    {
     "data": {
      "text/plain": "     idade_materna    fumo    alcool psicoativas    tpp    dpp oligoamnio  \\\n351           32.0  n_fumo  n_alcool     n_psico  n_tpp  n_dpp    n_oligo   \n267           26.0  n_fumo  n_alcool     n_psico  s_tpp  n_dpp    n_oligo   \n189           21.0  n_fumo  n_alcool     n_psico  s_tpp  n_dpp    n_oligo   \n324           36.0  n_fumo  n_alcool     n_psico  n_tpp  n_dpp    n_oligo   \n229           21.0  n_fumo  n_alcool     n_psico  s_tpp  n_dpp    n_oligo   \n..             ...     ...       ...         ...    ...    ...        ...   \n309           39.0  n_fumo  n_alcool     n_psico  n_tpp  n_dpp    n_oligo   \n26            37.0  n_fumo  n_alcool     n_psico  n_tpp  n_dpp    s_oligo   \n228           26.0  n_fumo  n_alcool     n_psico  s_tpp  n_dpp    n_oligo   \n238           20.0  n_fumo  n_alcool     n_psico  n_tpp  n_dpp    n_oligo   \n58            35.0  n_fumo  n_alcool     n_psico  n_tpp  n_dpp    n_oligo   \n\n       sifilis    hiv covid_mae    dheg    dm       sexo  \n351  n_sifilis  n_hiv   n_covid  n_dheg  n_dm  Masculino  \n267  n_sifilis  n_hiv   n_covid  s_dheg  s_dm   Feminino  \n189  n_sifilis  n_hiv   n_covid  n_dheg  n_dm  Masculino  \n324  n_sifilis  n_hiv   n_covid  n_dheg  n_dm  Masculino  \n229  n_sifilis  n_hiv   n_covid  n_dheg  n_dm   Feminino  \n..         ...    ...       ...     ...   ...        ...  \n309  s_sifilis  n_hiv   n_covid  n_dheg  n_dm  Masculino  \n26   n_sifilis  n_hiv   n_covid  s_dheg  s_dm   Feminino  \n228  n_sifilis  n_hiv   n_covid  s_dheg  n_dm  Masculino  \n238  d_sifilis  d_hiv   n_covid  n_dheg  n_dm  Masculino  \n58   n_sifilis  n_hiv   n_covid  n_dheg  n_dm   Feminino  \n\n[239 rows x 13 columns]",
      "text/html": "<div>\n<style scoped>\n    .dataframe tbody tr th:only-of-type {\n        vertical-align: middle;\n    }\n\n    .dataframe tbody tr th {\n        vertical-align: top;\n    }\n\n    .dataframe thead th {\n        text-align: right;\n    }\n</style>\n<table border=\"1\" class=\"dataframe\">\n  <thead>\n    <tr style=\"text-align: right;\">\n      <th></th>\n      <th>idade_materna</th>\n      <th>fumo</th>\n      <th>alcool</th>\n      <th>psicoativas</th>\n      <th>tpp</th>\n      <th>dpp</th>\n      <th>oligoamnio</th>\n      <th>sifilis</th>\n      <th>hiv</th>\n      <th>covid_mae</th>\n      <th>dheg</th>\n      <th>dm</th>\n      <th>sexo</th>\n    </tr>\n  </thead>\n  <tbody>\n    <tr>\n      <th>351</th>\n      <td>32.0</td>\n      <td>n_fumo</td>\n      <td>n_alcool</td>\n      <td>n_psico</td>\n      <td>n_tpp</td>\n      <td>n_dpp</td>\n      <td>n_oligo</td>\n      <td>n_sifilis</td>\n      <td>n_hiv</td>\n      <td>n_covid</td>\n      <td>n_dheg</td>\n      <td>n_dm</td>\n      <td>Masculino</td>\n    </tr>\n    <tr>\n      <th>267</th>\n      <td>26.0</td>\n      <td>n_fumo</td>\n      <td>n_alcool</td>\n      <td>n_psico</td>\n      <td>s_tpp</td>\n      <td>n_dpp</td>\n      <td>n_oligo</td>\n      <td>n_sifilis</td>\n      <td>n_hiv</td>\n      <td>n_covid</td>\n      <td>s_dheg</td>\n      <td>s_dm</td>\n      <td>Feminino</td>\n    </tr>\n    <tr>\n      <th>189</th>\n      <td>21.0</td>\n      <td>n_fumo</td>\n      <td>n_alcool</td>\n      <td>n_psico</td>\n      <td>s_tpp</td>\n      <td>n_dpp</td>\n      <td>n_oligo</td>\n      <td>n_sifilis</td>\n      <td>n_hiv</td>\n      <td>n_covid</td>\n      <td>n_dheg</td>\n      <td>n_dm</td>\n      <td>Masculino</td>\n    </tr>\n    <tr>\n      <th>324</th>\n      <td>36.0</td>\n      <td>n_fumo</td>\n      <td>n_alcool</td>\n      <td>n_psico</td>\n      <td>n_tpp</td>\n      <td>n_dpp</td>\n      <td>n_oligo</td>\n      <td>n_sifilis</td>\n      <td>n_hiv</td>\n      <td>n_covid</td>\n      <td>n_dheg</td>\n      <td>n_dm</td>\n      <td>Masculino</td>\n    </tr>\n    <tr>\n      <th>229</th>\n      <td>21.0</td>\n      <td>n_fumo</td>\n      <td>n_alcool</td>\n      <td>n_psico</td>\n      <td>s_tpp</td>\n      <td>n_dpp</td>\n      <td>n_oligo</td>\n      <td>n_sifilis</td>\n      <td>n_hiv</td>\n      <td>n_covid</td>\n      <td>n_dheg</td>\n      <td>n_dm</td>\n      <td>Feminino</td>\n    </tr>\n    <tr>\n      <th>...</th>\n      <td>...</td>\n      <td>...</td>\n      <td>...</td>\n      <td>...</td>\n      <td>...</td>\n      <td>...</td>\n      <td>...</td>\n      <td>...</td>\n      <td>...</td>\n      <td>...</td>\n      <td>...</td>\n      <td>...</td>\n      <td>...</td>\n    </tr>\n    <tr>\n      <th>309</th>\n      <td>39.0</td>\n      <td>n_fumo</td>\n      <td>n_alcool</td>\n      <td>n_psico</td>\n      <td>n_tpp</td>\n      <td>n_dpp</td>\n      <td>n_oligo</td>\n      <td>s_sifilis</td>\n      <td>n_hiv</td>\n      <td>n_covid</td>\n      <td>n_dheg</td>\n      <td>n_dm</td>\n      <td>Masculino</td>\n    </tr>\n    <tr>\n      <th>26</th>\n      <td>37.0</td>\n      <td>n_fumo</td>\n      <td>n_alcool</td>\n      <td>n_psico</td>\n      <td>n_tpp</td>\n      <td>n_dpp</td>\n      <td>s_oligo</td>\n      <td>n_sifilis</td>\n      <td>n_hiv</td>\n      <td>n_covid</td>\n      <td>s_dheg</td>\n      <td>s_dm</td>\n      <td>Feminino</td>\n    </tr>\n    <tr>\n      <th>228</th>\n      <td>26.0</td>\n      <td>n_fumo</td>\n      <td>n_alcool</td>\n      <td>n_psico</td>\n      <td>s_tpp</td>\n      <td>n_dpp</td>\n      <td>n_oligo</td>\n      <td>n_sifilis</td>\n      <td>n_hiv</td>\n      <td>n_covid</td>\n      <td>s_dheg</td>\n      <td>n_dm</td>\n      <td>Masculino</td>\n    </tr>\n    <tr>\n      <th>238</th>\n      <td>20.0</td>\n      <td>n_fumo</td>\n      <td>n_alcool</td>\n      <td>n_psico</td>\n      <td>n_tpp</td>\n      <td>n_dpp</td>\n      <td>n_oligo</td>\n      <td>d_sifilis</td>\n      <td>d_hiv</td>\n      <td>n_covid</td>\n      <td>n_dheg</td>\n      <td>n_dm</td>\n      <td>Masculino</td>\n    </tr>\n    <tr>\n      <th>58</th>\n      <td>35.0</td>\n      <td>n_fumo</td>\n      <td>n_alcool</td>\n      <td>n_psico</td>\n      <td>n_tpp</td>\n      <td>n_dpp</td>\n      <td>n_oligo</td>\n      <td>n_sifilis</td>\n      <td>n_hiv</td>\n      <td>n_covid</td>\n      <td>n_dheg</td>\n      <td>n_dm</td>\n      <td>Feminino</td>\n    </tr>\n  </tbody>\n</table>\n<p>239 rows × 13 columns</p>\n</div>"
     },
     "execution_count": 13,
     "metadata": {},
     "output_type": "execute_result"
    }
   ],
   "source": [
    "x_train"
   ],
   "metadata": {
    "collapsed": false,
    "pycharm": {
     "name": "#%%\n"
    }
   }
  },
  {
   "cell_type": "markdown",
   "source": [
    "### 3.2.  Codificação da Variável *Target*"
   ],
   "metadata": {
    "collapsed": false,
    "pycharm": {
     "name": "#%% md\n"
    }
   }
  },
  {
   "cell_type": "markdown",
   "source": [
    "Neste passo a variável *target* categórica terá seus valores de texto substituídos por uma valor numérico.  Originalmente, no *dataset* recebido da API, as variáveis são já codificadas em valores numéricos pelo operador do sistema de alimentação dos dados via dicionário de dados.  No entanto, este processo foi revertido aqui na etapa de preprocessamento para fins didáticos."
   ],
   "metadata": {
    "collapsed": false,
    "pycharm": {
     "name": "#%% md\n"
    }
   }
  },
  {
   "cell_type": "code",
   "execution_count": 14,
   "outputs": [
    {
     "data": {
      "text/plain": "351    nr\n267    nr\n189    nr\n324    nr\n229    sr\n       ..\n309    nr\n26     nr\n228    nr\n238    nr\n58     nr\nName: reanimacao, Length: 239, dtype: object"
     },
     "execution_count": 14,
     "metadata": {},
     "output_type": "execute_result"
    }
   ],
   "source": [
    "y_train"
   ],
   "metadata": {
    "collapsed": false,
    "pycharm": {
     "name": "#%%\n"
    }
   }
  },
  {
   "cell_type": "code",
   "execution_count": 111,
   "outputs": [
    {
     "name": "stderr",
     "output_type": "stream",
     "text": [
      "03-06-2022 11:17:24 Codificando variável target\n",
      "03-06-2022 11:17:24 Classes [0, 1]: ['nr' 'sr']\n"
     ]
    }
   ],
   "source": [
    "logger.info(\"Codificando variável target\")\n",
    "# Objeto codificador\n",
    "le = LabelEncoder()\n",
    "\n",
    "# Treinamento e transformação do conjunto de treinamento\n",
    "y_train = le.fit_transform(y_train)\n",
    "\n",
    "# Transformação do conjunto de validação - não é necessário treinamento pois já\n",
    "# foi realizado\n",
    "y_val = le.transform(y_val)\n",
    "\n",
    "logger.info(\"Classes [0, 1]: {}\".format(le.inverse_transform([0, 1])))"
   ],
   "metadata": {
    "collapsed": false,
    "pycharm": {
     "name": "#%%\n"
    }
   }
  },
  {
   "cell_type": "code",
   "execution_count": 112,
   "outputs": [
    {
     "data": {
      "text/plain": "array([0, 0, 0, 0, 1, 0, 1, 0, 1, 0, 0, 1, 0, 1, 1, 1, 1, 1, 1, 0, 1, 1,\n       1, 1, 0, 0, 1, 0, 0, 0, 1, 0, 1, 1, 0, 0, 1, 0, 1, 1, 0, 0, 1, 0,\n       0, 0, 1, 0, 0, 0, 0, 0, 1, 0, 1, 0, 1, 1, 0, 0, 1, 0, 0, 0, 1, 1,\n       0, 1, 1, 1, 0, 0, 0, 0, 0, 0, 1, 1, 1, 1, 0, 1, 0, 0, 0, 1, 0, 0,\n       0, 0, 0, 0, 0, 0, 0, 0, 0, 0, 0, 1, 0, 1, 1, 0, 0, 1, 1, 1, 0, 1,\n       1, 0, 0, 1, 1, 0, 1, 0, 0, 1, 0, 0, 0, 1, 1, 0, 0, 0, 1, 1, 1, 0,\n       1, 1, 1, 0, 0, 0, 1, 1, 0, 0, 1, 1, 0, 1, 1, 0, 0, 0, 0, 0, 0, 0,\n       0, 1, 0, 0, 1, 0, 1, 0, 1, 0, 1, 1, 1, 1, 1, 1, 0, 1, 1, 1, 0, 0,\n       1, 1, 0, 0, 0, 0, 0, 0, 1, 1, 0, 0, 0, 0, 0, 1, 0, 1, 0, 0, 1, 0,\n       0, 0, 1, 0, 1, 0, 0, 1, 0, 1, 0, 0, 0, 0, 1, 0, 0, 1, 0, 0, 0, 0,\n       1, 0, 0, 0, 1, 1, 1, 0, 1, 1, 1, 0, 1, 1, 0, 0, 0, 0, 0])"
     },
     "execution_count": 112,
     "metadata": {},
     "output_type": "execute_result"
    }
   ],
   "source": [
    "y_train"
   ],
   "metadata": {
    "collapsed": false,
    "pycharm": {
     "name": "#%%\n"
    }
   }
  },
  {
   "cell_type": "code",
   "execution_count": 113,
   "outputs": [
    {
     "data": {
      "text/plain": "array([1, 0, 1, 0, 1, 0, 1, 0, 1, 1, 1, 0, 1, 0, 0, 1, 0, 1, 0, 0, 1, 0,\n       1, 1, 0, 0, 0, 1, 0, 1, 0, 1, 0, 0, 0, 0, 1, 0, 1, 0, 0, 0, 1, 0,\n       1, 1, 0, 0, 0, 0, 0, 1, 1, 1, 1, 1, 1, 0, 0, 1, 1, 0, 1, 1, 0, 1,\n       0, 1, 0, 1, 0, 0, 0, 0, 0, 1, 0, 1, 0, 0, 1, 0, 0, 0, 0, 0, 0, 0,\n       0, 1, 1, 0, 0, 0, 1, 0, 0, 0, 1, 0, 1, 1, 0, 0, 1, 0])"
     },
     "execution_count": 113,
     "metadata": {},
     "output_type": "execute_result"
    }
   ],
   "source": [
    "y_val"
   ],
   "metadata": {
    "collapsed": false,
    "pycharm": {
     "name": "#%%\n"
    }
   }
  },
  {
   "cell_type": "markdown",
   "source": [
    "### 3.3. Codificação das *Features*"
   ],
   "metadata": {
    "collapsed": false,
    "pycharm": {
     "name": "#%% md\n"
    }
   }
  },
  {
   "cell_type": "markdown",
   "source": [
    "#### 3.3.1. *Features* Categóricas"
   ],
   "metadata": {
    "collapsed": false,
    "pycharm": {
     "name": "#%% md\n"
    }
   }
  },
  {
   "cell_type": "code",
   "execution_count": 18,
   "outputs": [
    {
     "data": {
      "text/plain": "(239, 13)"
     },
     "execution_count": 18,
     "metadata": {},
     "output_type": "execute_result"
    }
   ],
   "source": [
    "x_train.shape"
   ],
   "metadata": {
    "collapsed": false,
    "pycharm": {
     "name": "#%%\n"
    }
   }
  },
  {
   "cell_type": "markdown",
   "source": [
    "Seleciona as *features* categóricas"
   ],
   "metadata": {
    "collapsed": false,
    "pycharm": {
     "name": "#%% md\n"
    }
   }
  },
  {
   "cell_type": "code",
   "execution_count": 19,
   "outputs": [
    {
     "data": {
      "text/plain": "['fumo',\n 'alcool',\n 'psicoativas',\n 'tpp',\n 'dpp',\n 'oligoamnio',\n 'sifilis',\n 'hiv',\n 'covid_mae',\n 'dheg',\n 'dm',\n 'sexo']"
     },
     "execution_count": 19,
     "metadata": {},
     "output_type": "execute_result"
    }
   ],
   "source": [
    "colunas = x_train.select_dtypes('object').columns.to_list()\n",
    "colunas"
   ],
   "metadata": {
    "collapsed": false,
    "pycharm": {
     "name": "#%%\n"
    }
   }
  },
  {
   "cell_type": "code",
   "execution_count": 20,
   "outputs": [
    {
     "data": {
      "text/plain": "array(['n_fumo', 'd_fumo', 's_fumo'], dtype=object)"
     },
     "execution_count": 20,
     "metadata": {},
     "output_type": "execute_result"
    }
   ],
   "source": [
    "x_val.fumo.unique()"
   ],
   "metadata": {
    "collapsed": false,
    "pycharm": {
     "name": "#%%\n"
    }
   }
  },
  {
   "cell_type": "code",
   "execution_count": 21,
   "outputs": [],
   "source": [
    "for col in colunas:\n",
    "    # Cria o objeto OneHotEncoder\n",
    "    one_hot = OneHotEncoder(sparse=False, drop='first')\n",
    "\n",
    "    # Treinamento do codificador\n",
    "    one_hot.fit(x_train[col].values.reshape(-1,1))\n",
    "\n",
    "    # Criação de novas colunas\n",
    "    x_train[one_hot.get_feature_names_out()] = one_hot.transform(x_train[col].values.reshape(-1,1))\n",
    "    x_val[one_hot.get_feature_names_out()] = one_hot.transform(x_val[col].values.reshape(-1,1))"
   ],
   "metadata": {
    "collapsed": false,
    "pycharm": {
     "name": "#%%\n"
    }
   }
  },
  {
   "cell_type": "code",
   "execution_count": 22,
   "outputs": [
    {
     "data": {
      "text/plain": "     idade_materna    fumo    alcool psicoativas    tpp    dpp oligoamnio  \\\n351           32.0  n_fumo  n_alcool     n_psico  n_tpp  n_dpp    n_oligo   \n267           26.0  n_fumo  n_alcool     n_psico  s_tpp  n_dpp    n_oligo   \n189           21.0  n_fumo  n_alcool     n_psico  s_tpp  n_dpp    n_oligo   \n324           36.0  n_fumo  n_alcool     n_psico  n_tpp  n_dpp    n_oligo   \n229           21.0  n_fumo  n_alcool     n_psico  s_tpp  n_dpp    n_oligo   \n..             ...     ...       ...         ...    ...    ...        ...   \n309           39.0  n_fumo  n_alcool     n_psico  n_tpp  n_dpp    n_oligo   \n26            37.0  n_fumo  n_alcool     n_psico  n_tpp  n_dpp    s_oligo   \n228           26.0  n_fumo  n_alcool     n_psico  s_tpp  n_dpp    n_oligo   \n238           20.0  n_fumo  n_alcool     n_psico  n_tpp  n_dpp    n_oligo   \n58            35.0  n_fumo  n_alcool     n_psico  n_tpp  n_dpp    n_oligo   \n\n       sifilis    hiv covid_mae  ... x0_s_sifilis x0_n_hiv x0_s_hiv  \\\n351  n_sifilis  n_hiv   n_covid  ...          0.0      1.0      0.0   \n267  n_sifilis  n_hiv   n_covid  ...          0.0      1.0      0.0   \n189  n_sifilis  n_hiv   n_covid  ...          0.0      1.0      0.0   \n324  n_sifilis  n_hiv   n_covid  ...          0.0      1.0      0.0   \n229  n_sifilis  n_hiv   n_covid  ...          0.0      1.0      0.0   \n..         ...    ...       ...  ...          ...      ...      ...   \n309  s_sifilis  n_hiv   n_covid  ...          1.0      1.0      0.0   \n26   n_sifilis  n_hiv   n_covid  ...          0.0      1.0      0.0   \n228  n_sifilis  n_hiv   n_covid  ...          0.0      1.0      0.0   \n238  d_sifilis  d_hiv   n_covid  ...          0.0      0.0      0.0   \n58   n_sifilis  n_hiv   n_covid  ...          0.0      1.0      0.0   \n\n     x0_n_covid  x0_s_covid  x0_n_dheg  x0_s_dheg  x0_n_dm  x0_s_dm  \\\n351         1.0         0.0        1.0        0.0      1.0      0.0   \n267         1.0         0.0        0.0        1.0      0.0      1.0   \n189         1.0         0.0        1.0        0.0      1.0      0.0   \n324         1.0         0.0        1.0        0.0      1.0      0.0   \n229         1.0         0.0        1.0        0.0      1.0      0.0   \n..          ...         ...        ...        ...      ...      ...   \n309         1.0         0.0        1.0        0.0      1.0      0.0   \n26          1.0         0.0        0.0        1.0      0.0      1.0   \n228         1.0         0.0        0.0        1.0      1.0      0.0   \n238         1.0         0.0        1.0        0.0      1.0      0.0   \n58          1.0         0.0        1.0        0.0      1.0      0.0   \n\n     x0_Masculino  \n351           1.0  \n267           0.0  \n189           1.0  \n324           1.0  \n229           0.0  \n..            ...  \n309           1.0  \n26            0.0  \n228           1.0  \n238           1.0  \n58            0.0  \n\n[239 rows x 36 columns]",
      "text/html": "<div>\n<style scoped>\n    .dataframe tbody tr th:only-of-type {\n        vertical-align: middle;\n    }\n\n    .dataframe tbody tr th {\n        vertical-align: top;\n    }\n\n    .dataframe thead th {\n        text-align: right;\n    }\n</style>\n<table border=\"1\" class=\"dataframe\">\n  <thead>\n    <tr style=\"text-align: right;\">\n      <th></th>\n      <th>idade_materna</th>\n      <th>fumo</th>\n      <th>alcool</th>\n      <th>psicoativas</th>\n      <th>tpp</th>\n      <th>dpp</th>\n      <th>oligoamnio</th>\n      <th>sifilis</th>\n      <th>hiv</th>\n      <th>covid_mae</th>\n      <th>...</th>\n      <th>x0_s_sifilis</th>\n      <th>x0_n_hiv</th>\n      <th>x0_s_hiv</th>\n      <th>x0_n_covid</th>\n      <th>x0_s_covid</th>\n      <th>x0_n_dheg</th>\n      <th>x0_s_dheg</th>\n      <th>x0_n_dm</th>\n      <th>x0_s_dm</th>\n      <th>x0_Masculino</th>\n    </tr>\n  </thead>\n  <tbody>\n    <tr>\n      <th>351</th>\n      <td>32.0</td>\n      <td>n_fumo</td>\n      <td>n_alcool</td>\n      <td>n_psico</td>\n      <td>n_tpp</td>\n      <td>n_dpp</td>\n      <td>n_oligo</td>\n      <td>n_sifilis</td>\n      <td>n_hiv</td>\n      <td>n_covid</td>\n      <td>...</td>\n      <td>0.0</td>\n      <td>1.0</td>\n      <td>0.0</td>\n      <td>1.0</td>\n      <td>0.0</td>\n      <td>1.0</td>\n      <td>0.0</td>\n      <td>1.0</td>\n      <td>0.0</td>\n      <td>1.0</td>\n    </tr>\n    <tr>\n      <th>267</th>\n      <td>26.0</td>\n      <td>n_fumo</td>\n      <td>n_alcool</td>\n      <td>n_psico</td>\n      <td>s_tpp</td>\n      <td>n_dpp</td>\n      <td>n_oligo</td>\n      <td>n_sifilis</td>\n      <td>n_hiv</td>\n      <td>n_covid</td>\n      <td>...</td>\n      <td>0.0</td>\n      <td>1.0</td>\n      <td>0.0</td>\n      <td>1.0</td>\n      <td>0.0</td>\n      <td>0.0</td>\n      <td>1.0</td>\n      <td>0.0</td>\n      <td>1.0</td>\n      <td>0.0</td>\n    </tr>\n    <tr>\n      <th>189</th>\n      <td>21.0</td>\n      <td>n_fumo</td>\n      <td>n_alcool</td>\n      <td>n_psico</td>\n      <td>s_tpp</td>\n      <td>n_dpp</td>\n      <td>n_oligo</td>\n      <td>n_sifilis</td>\n      <td>n_hiv</td>\n      <td>n_covid</td>\n      <td>...</td>\n      <td>0.0</td>\n      <td>1.0</td>\n      <td>0.0</td>\n      <td>1.0</td>\n      <td>0.0</td>\n      <td>1.0</td>\n      <td>0.0</td>\n      <td>1.0</td>\n      <td>0.0</td>\n      <td>1.0</td>\n    </tr>\n    <tr>\n      <th>324</th>\n      <td>36.0</td>\n      <td>n_fumo</td>\n      <td>n_alcool</td>\n      <td>n_psico</td>\n      <td>n_tpp</td>\n      <td>n_dpp</td>\n      <td>n_oligo</td>\n      <td>n_sifilis</td>\n      <td>n_hiv</td>\n      <td>n_covid</td>\n      <td>...</td>\n      <td>0.0</td>\n      <td>1.0</td>\n      <td>0.0</td>\n      <td>1.0</td>\n      <td>0.0</td>\n      <td>1.0</td>\n      <td>0.0</td>\n      <td>1.0</td>\n      <td>0.0</td>\n      <td>1.0</td>\n    </tr>\n    <tr>\n      <th>229</th>\n      <td>21.0</td>\n      <td>n_fumo</td>\n      <td>n_alcool</td>\n      <td>n_psico</td>\n      <td>s_tpp</td>\n      <td>n_dpp</td>\n      <td>n_oligo</td>\n      <td>n_sifilis</td>\n      <td>n_hiv</td>\n      <td>n_covid</td>\n      <td>...</td>\n      <td>0.0</td>\n      <td>1.0</td>\n      <td>0.0</td>\n      <td>1.0</td>\n      <td>0.0</td>\n      <td>1.0</td>\n      <td>0.0</td>\n      <td>1.0</td>\n      <td>0.0</td>\n      <td>0.0</td>\n    </tr>\n    <tr>\n      <th>...</th>\n      <td>...</td>\n      <td>...</td>\n      <td>...</td>\n      <td>...</td>\n      <td>...</td>\n      <td>...</td>\n      <td>...</td>\n      <td>...</td>\n      <td>...</td>\n      <td>...</td>\n      <td>...</td>\n      <td>...</td>\n      <td>...</td>\n      <td>...</td>\n      <td>...</td>\n      <td>...</td>\n      <td>...</td>\n      <td>...</td>\n      <td>...</td>\n      <td>...</td>\n      <td>...</td>\n    </tr>\n    <tr>\n      <th>309</th>\n      <td>39.0</td>\n      <td>n_fumo</td>\n      <td>n_alcool</td>\n      <td>n_psico</td>\n      <td>n_tpp</td>\n      <td>n_dpp</td>\n      <td>n_oligo</td>\n      <td>s_sifilis</td>\n      <td>n_hiv</td>\n      <td>n_covid</td>\n      <td>...</td>\n      <td>1.0</td>\n      <td>1.0</td>\n      <td>0.0</td>\n      <td>1.0</td>\n      <td>0.0</td>\n      <td>1.0</td>\n      <td>0.0</td>\n      <td>1.0</td>\n      <td>0.0</td>\n      <td>1.0</td>\n    </tr>\n    <tr>\n      <th>26</th>\n      <td>37.0</td>\n      <td>n_fumo</td>\n      <td>n_alcool</td>\n      <td>n_psico</td>\n      <td>n_tpp</td>\n      <td>n_dpp</td>\n      <td>s_oligo</td>\n      <td>n_sifilis</td>\n      <td>n_hiv</td>\n      <td>n_covid</td>\n      <td>...</td>\n      <td>0.0</td>\n      <td>1.0</td>\n      <td>0.0</td>\n      <td>1.0</td>\n      <td>0.0</td>\n      <td>0.0</td>\n      <td>1.0</td>\n      <td>0.0</td>\n      <td>1.0</td>\n      <td>0.0</td>\n    </tr>\n    <tr>\n      <th>228</th>\n      <td>26.0</td>\n      <td>n_fumo</td>\n      <td>n_alcool</td>\n      <td>n_psico</td>\n      <td>s_tpp</td>\n      <td>n_dpp</td>\n      <td>n_oligo</td>\n      <td>n_sifilis</td>\n      <td>n_hiv</td>\n      <td>n_covid</td>\n      <td>...</td>\n      <td>0.0</td>\n      <td>1.0</td>\n      <td>0.0</td>\n      <td>1.0</td>\n      <td>0.0</td>\n      <td>0.0</td>\n      <td>1.0</td>\n      <td>1.0</td>\n      <td>0.0</td>\n      <td>1.0</td>\n    </tr>\n    <tr>\n      <th>238</th>\n      <td>20.0</td>\n      <td>n_fumo</td>\n      <td>n_alcool</td>\n      <td>n_psico</td>\n      <td>n_tpp</td>\n      <td>n_dpp</td>\n      <td>n_oligo</td>\n      <td>d_sifilis</td>\n      <td>d_hiv</td>\n      <td>n_covid</td>\n      <td>...</td>\n      <td>0.0</td>\n      <td>0.0</td>\n      <td>0.0</td>\n      <td>1.0</td>\n      <td>0.0</td>\n      <td>1.0</td>\n      <td>0.0</td>\n      <td>1.0</td>\n      <td>0.0</td>\n      <td>1.0</td>\n    </tr>\n    <tr>\n      <th>58</th>\n      <td>35.0</td>\n      <td>n_fumo</td>\n      <td>n_alcool</td>\n      <td>n_psico</td>\n      <td>n_tpp</td>\n      <td>n_dpp</td>\n      <td>n_oligo</td>\n      <td>n_sifilis</td>\n      <td>n_hiv</td>\n      <td>n_covid</td>\n      <td>...</td>\n      <td>0.0</td>\n      <td>1.0</td>\n      <td>0.0</td>\n      <td>1.0</td>\n      <td>0.0</td>\n      <td>1.0</td>\n      <td>0.0</td>\n      <td>1.0</td>\n      <td>0.0</td>\n      <td>0.0</td>\n    </tr>\n  </tbody>\n</table>\n<p>239 rows × 36 columns</p>\n</div>"
     },
     "execution_count": 22,
     "metadata": {},
     "output_type": "execute_result"
    }
   ],
   "source": [
    "x_train"
   ],
   "metadata": {
    "collapsed": false,
    "pycharm": {
     "name": "#%%\n"
    }
   }
  },
  {
   "cell_type": "code",
   "execution_count": 23,
   "outputs": [
    {
     "data": {
      "text/plain": "     idade_materna    fumo    alcool psicoativas    tpp    dpp oligoamnio  \\\n161           21.0  n_fumo  n_alcool     n_psico  n_tpp  n_dpp    n_oligo   \n326           38.0  n_fumo  n_alcool     n_psico  s_tpp  n_dpp    n_oligo   \n295           28.0  n_fumo  n_alcool     n_psico  n_tpp  n_dpp    n_oligo   \n179           23.0  n_fumo  n_alcool     n_psico  n_tpp  n_dpp    n_oligo   \n48            31.0  n_fumo  n_alcool     n_psico  n_tpp  n_dpp    n_oligo   \n..             ...     ...       ...         ...    ...    ...        ...   \n139           30.0  n_fumo  d_alcool     d_psico  s_tpp  n_dpp    n_oligo   \n155           41.0  n_fumo  n_alcool     n_psico  n_tpp  n_dpp    n_oligo   \n230           21.0  n_fumo  n_alcool     d_psico  n_tpp  n_dpp    n_oligo   \n314           42.0  n_fumo  n_alcool     d_psico  n_tpp  n_dpp    n_oligo   \n95            41.0  n_fumo  n_alcool     n_psico  s_tpp  n_dpp    n_oligo   \n\n       sifilis    hiv covid_mae  ... x0_s_sifilis x0_n_hiv x0_s_hiv  \\\n161  n_sifilis  n_hiv   d_covid  ...          0.0      1.0      0.0   \n326  n_sifilis  n_hiv   n_covid  ...          0.0      1.0      0.0   \n295  n_sifilis  n_hiv   n_covid  ...          0.0      1.0      0.0   \n179  n_sifilis  n_hiv   n_covid  ...          0.0      1.0      0.0   \n48   n_sifilis  d_hiv   n_covid  ...          0.0      0.0      0.0   \n..         ...    ...       ...  ...          ...      ...      ...   \n139  n_sifilis  n_hiv   n_covid  ...          0.0      1.0      0.0   \n155  n_sifilis  n_hiv   d_covid  ...          0.0      1.0      0.0   \n230  n_sifilis  n_hiv   n_covid  ...          0.0      1.0      0.0   \n314  n_sifilis  n_hiv   n_covid  ...          0.0      1.0      0.0   \n95   n_sifilis  n_hiv   n_covid  ...          0.0      1.0      0.0   \n\n     x0_n_covid  x0_s_covid  x0_n_dheg  x0_s_dheg  x0_n_dm  x0_s_dm  \\\n161         0.0         0.0        1.0        0.0      1.0      0.0   \n326         1.0         0.0        1.0        0.0      1.0      0.0   \n295         1.0         0.0        0.0        1.0      1.0      0.0   \n179         1.0         0.0        1.0        0.0      0.0      1.0   \n48          1.0         0.0        0.0        0.0      0.0      0.0   \n..          ...         ...        ...        ...      ...      ...   \n139         1.0         0.0        1.0        0.0      1.0      0.0   \n155         0.0         0.0        1.0        0.0      1.0      0.0   \n230         1.0         0.0        0.0        1.0      1.0      0.0   \n314         1.0         0.0        0.0        1.0      0.0      1.0   \n95          1.0         0.0        0.0        1.0      1.0      0.0   \n\n     x0_Masculino  \n161           0.0  \n326           1.0  \n295           1.0  \n179           1.0  \n48            1.0  \n..            ...  \n139           1.0  \n155           1.0  \n230           1.0  \n314           1.0  \n95            0.0  \n\n[106 rows x 36 columns]",
      "text/html": "<div>\n<style scoped>\n    .dataframe tbody tr th:only-of-type {\n        vertical-align: middle;\n    }\n\n    .dataframe tbody tr th {\n        vertical-align: top;\n    }\n\n    .dataframe thead th {\n        text-align: right;\n    }\n</style>\n<table border=\"1\" class=\"dataframe\">\n  <thead>\n    <tr style=\"text-align: right;\">\n      <th></th>\n      <th>idade_materna</th>\n      <th>fumo</th>\n      <th>alcool</th>\n      <th>psicoativas</th>\n      <th>tpp</th>\n      <th>dpp</th>\n      <th>oligoamnio</th>\n      <th>sifilis</th>\n      <th>hiv</th>\n      <th>covid_mae</th>\n      <th>...</th>\n      <th>x0_s_sifilis</th>\n      <th>x0_n_hiv</th>\n      <th>x0_s_hiv</th>\n      <th>x0_n_covid</th>\n      <th>x0_s_covid</th>\n      <th>x0_n_dheg</th>\n      <th>x0_s_dheg</th>\n      <th>x0_n_dm</th>\n      <th>x0_s_dm</th>\n      <th>x0_Masculino</th>\n    </tr>\n  </thead>\n  <tbody>\n    <tr>\n      <th>161</th>\n      <td>21.0</td>\n      <td>n_fumo</td>\n      <td>n_alcool</td>\n      <td>n_psico</td>\n      <td>n_tpp</td>\n      <td>n_dpp</td>\n      <td>n_oligo</td>\n      <td>n_sifilis</td>\n      <td>n_hiv</td>\n      <td>d_covid</td>\n      <td>...</td>\n      <td>0.0</td>\n      <td>1.0</td>\n      <td>0.0</td>\n      <td>0.0</td>\n      <td>0.0</td>\n      <td>1.0</td>\n      <td>0.0</td>\n      <td>1.0</td>\n      <td>0.0</td>\n      <td>0.0</td>\n    </tr>\n    <tr>\n      <th>326</th>\n      <td>38.0</td>\n      <td>n_fumo</td>\n      <td>n_alcool</td>\n      <td>n_psico</td>\n      <td>s_tpp</td>\n      <td>n_dpp</td>\n      <td>n_oligo</td>\n      <td>n_sifilis</td>\n      <td>n_hiv</td>\n      <td>n_covid</td>\n      <td>...</td>\n      <td>0.0</td>\n      <td>1.0</td>\n      <td>0.0</td>\n      <td>1.0</td>\n      <td>0.0</td>\n      <td>1.0</td>\n      <td>0.0</td>\n      <td>1.0</td>\n      <td>0.0</td>\n      <td>1.0</td>\n    </tr>\n    <tr>\n      <th>295</th>\n      <td>28.0</td>\n      <td>n_fumo</td>\n      <td>n_alcool</td>\n      <td>n_psico</td>\n      <td>n_tpp</td>\n      <td>n_dpp</td>\n      <td>n_oligo</td>\n      <td>n_sifilis</td>\n      <td>n_hiv</td>\n      <td>n_covid</td>\n      <td>...</td>\n      <td>0.0</td>\n      <td>1.0</td>\n      <td>0.0</td>\n      <td>1.0</td>\n      <td>0.0</td>\n      <td>0.0</td>\n      <td>1.0</td>\n      <td>1.0</td>\n      <td>0.0</td>\n      <td>1.0</td>\n    </tr>\n    <tr>\n      <th>179</th>\n      <td>23.0</td>\n      <td>n_fumo</td>\n      <td>n_alcool</td>\n      <td>n_psico</td>\n      <td>n_tpp</td>\n      <td>n_dpp</td>\n      <td>n_oligo</td>\n      <td>n_sifilis</td>\n      <td>n_hiv</td>\n      <td>n_covid</td>\n      <td>...</td>\n      <td>0.0</td>\n      <td>1.0</td>\n      <td>0.0</td>\n      <td>1.0</td>\n      <td>0.0</td>\n      <td>1.0</td>\n      <td>0.0</td>\n      <td>0.0</td>\n      <td>1.0</td>\n      <td>1.0</td>\n    </tr>\n    <tr>\n      <th>48</th>\n      <td>31.0</td>\n      <td>n_fumo</td>\n      <td>n_alcool</td>\n      <td>n_psico</td>\n      <td>n_tpp</td>\n      <td>n_dpp</td>\n      <td>n_oligo</td>\n      <td>n_sifilis</td>\n      <td>d_hiv</td>\n      <td>n_covid</td>\n      <td>...</td>\n      <td>0.0</td>\n      <td>0.0</td>\n      <td>0.0</td>\n      <td>1.0</td>\n      <td>0.0</td>\n      <td>0.0</td>\n      <td>0.0</td>\n      <td>0.0</td>\n      <td>0.0</td>\n      <td>1.0</td>\n    </tr>\n    <tr>\n      <th>...</th>\n      <td>...</td>\n      <td>...</td>\n      <td>...</td>\n      <td>...</td>\n      <td>...</td>\n      <td>...</td>\n      <td>...</td>\n      <td>...</td>\n      <td>...</td>\n      <td>...</td>\n      <td>...</td>\n      <td>...</td>\n      <td>...</td>\n      <td>...</td>\n      <td>...</td>\n      <td>...</td>\n      <td>...</td>\n      <td>...</td>\n      <td>...</td>\n      <td>...</td>\n      <td>...</td>\n    </tr>\n    <tr>\n      <th>139</th>\n      <td>30.0</td>\n      <td>n_fumo</td>\n      <td>d_alcool</td>\n      <td>d_psico</td>\n      <td>s_tpp</td>\n      <td>n_dpp</td>\n      <td>n_oligo</td>\n      <td>n_sifilis</td>\n      <td>n_hiv</td>\n      <td>n_covid</td>\n      <td>...</td>\n      <td>0.0</td>\n      <td>1.0</td>\n      <td>0.0</td>\n      <td>1.0</td>\n      <td>0.0</td>\n      <td>1.0</td>\n      <td>0.0</td>\n      <td>1.0</td>\n      <td>0.0</td>\n      <td>1.0</td>\n    </tr>\n    <tr>\n      <th>155</th>\n      <td>41.0</td>\n      <td>n_fumo</td>\n      <td>n_alcool</td>\n      <td>n_psico</td>\n      <td>n_tpp</td>\n      <td>n_dpp</td>\n      <td>n_oligo</td>\n      <td>n_sifilis</td>\n      <td>n_hiv</td>\n      <td>d_covid</td>\n      <td>...</td>\n      <td>0.0</td>\n      <td>1.0</td>\n      <td>0.0</td>\n      <td>0.0</td>\n      <td>0.0</td>\n      <td>1.0</td>\n      <td>0.0</td>\n      <td>1.0</td>\n      <td>0.0</td>\n      <td>1.0</td>\n    </tr>\n    <tr>\n      <th>230</th>\n      <td>21.0</td>\n      <td>n_fumo</td>\n      <td>n_alcool</td>\n      <td>d_psico</td>\n      <td>n_tpp</td>\n      <td>n_dpp</td>\n      <td>n_oligo</td>\n      <td>n_sifilis</td>\n      <td>n_hiv</td>\n      <td>n_covid</td>\n      <td>...</td>\n      <td>0.0</td>\n      <td>1.0</td>\n      <td>0.0</td>\n      <td>1.0</td>\n      <td>0.0</td>\n      <td>0.0</td>\n      <td>1.0</td>\n      <td>1.0</td>\n      <td>0.0</td>\n      <td>1.0</td>\n    </tr>\n    <tr>\n      <th>314</th>\n      <td>42.0</td>\n      <td>n_fumo</td>\n      <td>n_alcool</td>\n      <td>d_psico</td>\n      <td>n_tpp</td>\n      <td>n_dpp</td>\n      <td>n_oligo</td>\n      <td>n_sifilis</td>\n      <td>n_hiv</td>\n      <td>n_covid</td>\n      <td>...</td>\n      <td>0.0</td>\n      <td>1.0</td>\n      <td>0.0</td>\n      <td>1.0</td>\n      <td>0.0</td>\n      <td>0.0</td>\n      <td>1.0</td>\n      <td>0.0</td>\n      <td>1.0</td>\n      <td>1.0</td>\n    </tr>\n    <tr>\n      <th>95</th>\n      <td>41.0</td>\n      <td>n_fumo</td>\n      <td>n_alcool</td>\n      <td>n_psico</td>\n      <td>s_tpp</td>\n      <td>n_dpp</td>\n      <td>n_oligo</td>\n      <td>n_sifilis</td>\n      <td>n_hiv</td>\n      <td>n_covid</td>\n      <td>...</td>\n      <td>0.0</td>\n      <td>1.0</td>\n      <td>0.0</td>\n      <td>1.0</td>\n      <td>0.0</td>\n      <td>0.0</td>\n      <td>1.0</td>\n      <td>1.0</td>\n      <td>0.0</td>\n      <td>0.0</td>\n    </tr>\n  </tbody>\n</table>\n<p>106 rows × 36 columns</p>\n</div>"
     },
     "execution_count": 23,
     "metadata": {},
     "output_type": "execute_result"
    }
   ],
   "source": [
    "x_val"
   ],
   "metadata": {
    "collapsed": false,
    "pycharm": {
     "name": "#%%\n"
    }
   }
  },
  {
   "cell_type": "code",
   "execution_count": 24,
   "outputs": [],
   "source": [
    "x_train.drop(columns=colunas, axis=1, inplace=True)\n",
    "x_val.drop(columns=colunas, axis=1, inplace=True)"
   ],
   "metadata": {
    "collapsed": false,
    "pycharm": {
     "name": "#%%\n"
    }
   }
  },
  {
   "cell_type": "code",
   "execution_count": 25,
   "outputs": [
    {
     "data": {
      "text/plain": "     idade_materna  x0_n_fumo  x0_s_fumo  x0_n_alcool  x0_s_alcool  \\\n351           32.0        1.0        0.0          1.0          0.0   \n267           26.0        1.0        0.0          1.0          0.0   \n189           21.0        1.0        0.0          1.0          0.0   \n324           36.0        1.0        0.0          1.0          0.0   \n229           21.0        1.0        0.0          1.0          0.0   \n\n     x0_n_psico  x0_s_psico  x0_n_tpp  x0_s_tpp  x0_n_dpp  ...  x0_s_sifilis  \\\n351         1.0         0.0       1.0       0.0       1.0  ...           0.0   \n267         1.0         0.0       0.0       1.0       1.0  ...           0.0   \n189         1.0         0.0       0.0       1.0       1.0  ...           0.0   \n324         1.0         0.0       1.0       0.0       1.0  ...           0.0   \n229         1.0         0.0       0.0       1.0       1.0  ...           0.0   \n\n     x0_n_hiv  x0_s_hiv  x0_n_covid  x0_s_covid  x0_n_dheg  x0_s_dheg  \\\n351       1.0       0.0         1.0         0.0        1.0        0.0   \n267       1.0       0.0         1.0         0.0        0.0        1.0   \n189       1.0       0.0         1.0         0.0        1.0        0.0   \n324       1.0       0.0         1.0         0.0        1.0        0.0   \n229       1.0       0.0         1.0         0.0        1.0        0.0   \n\n     x0_n_dm  x0_s_dm  x0_Masculino  \n351      1.0      0.0           1.0  \n267      0.0      1.0           0.0  \n189      1.0      0.0           1.0  \n324      1.0      0.0           1.0  \n229      1.0      0.0           0.0  \n\n[5 rows x 24 columns]",
      "text/html": "<div>\n<style scoped>\n    .dataframe tbody tr th:only-of-type {\n        vertical-align: middle;\n    }\n\n    .dataframe tbody tr th {\n        vertical-align: top;\n    }\n\n    .dataframe thead th {\n        text-align: right;\n    }\n</style>\n<table border=\"1\" class=\"dataframe\">\n  <thead>\n    <tr style=\"text-align: right;\">\n      <th></th>\n      <th>idade_materna</th>\n      <th>x0_n_fumo</th>\n      <th>x0_s_fumo</th>\n      <th>x0_n_alcool</th>\n      <th>x0_s_alcool</th>\n      <th>x0_n_psico</th>\n      <th>x0_s_psico</th>\n      <th>x0_n_tpp</th>\n      <th>x0_s_tpp</th>\n      <th>x0_n_dpp</th>\n      <th>...</th>\n      <th>x0_s_sifilis</th>\n      <th>x0_n_hiv</th>\n      <th>x0_s_hiv</th>\n      <th>x0_n_covid</th>\n      <th>x0_s_covid</th>\n      <th>x0_n_dheg</th>\n      <th>x0_s_dheg</th>\n      <th>x0_n_dm</th>\n      <th>x0_s_dm</th>\n      <th>x0_Masculino</th>\n    </tr>\n  </thead>\n  <tbody>\n    <tr>\n      <th>351</th>\n      <td>32.0</td>\n      <td>1.0</td>\n      <td>0.0</td>\n      <td>1.0</td>\n      <td>0.0</td>\n      <td>1.0</td>\n      <td>0.0</td>\n      <td>1.0</td>\n      <td>0.0</td>\n      <td>1.0</td>\n      <td>...</td>\n      <td>0.0</td>\n      <td>1.0</td>\n      <td>0.0</td>\n      <td>1.0</td>\n      <td>0.0</td>\n      <td>1.0</td>\n      <td>0.0</td>\n      <td>1.0</td>\n      <td>0.0</td>\n      <td>1.0</td>\n    </tr>\n    <tr>\n      <th>267</th>\n      <td>26.0</td>\n      <td>1.0</td>\n      <td>0.0</td>\n      <td>1.0</td>\n      <td>0.0</td>\n      <td>1.0</td>\n      <td>0.0</td>\n      <td>0.0</td>\n      <td>1.0</td>\n      <td>1.0</td>\n      <td>...</td>\n      <td>0.0</td>\n      <td>1.0</td>\n      <td>0.0</td>\n      <td>1.0</td>\n      <td>0.0</td>\n      <td>0.0</td>\n      <td>1.0</td>\n      <td>0.0</td>\n      <td>1.0</td>\n      <td>0.0</td>\n    </tr>\n    <tr>\n      <th>189</th>\n      <td>21.0</td>\n      <td>1.0</td>\n      <td>0.0</td>\n      <td>1.0</td>\n      <td>0.0</td>\n      <td>1.0</td>\n      <td>0.0</td>\n      <td>0.0</td>\n      <td>1.0</td>\n      <td>1.0</td>\n      <td>...</td>\n      <td>0.0</td>\n      <td>1.0</td>\n      <td>0.0</td>\n      <td>1.0</td>\n      <td>0.0</td>\n      <td>1.0</td>\n      <td>0.0</td>\n      <td>1.0</td>\n      <td>0.0</td>\n      <td>1.0</td>\n    </tr>\n    <tr>\n      <th>324</th>\n      <td>36.0</td>\n      <td>1.0</td>\n      <td>0.0</td>\n      <td>1.0</td>\n      <td>0.0</td>\n      <td>1.0</td>\n      <td>0.0</td>\n      <td>1.0</td>\n      <td>0.0</td>\n      <td>1.0</td>\n      <td>...</td>\n      <td>0.0</td>\n      <td>1.0</td>\n      <td>0.0</td>\n      <td>1.0</td>\n      <td>0.0</td>\n      <td>1.0</td>\n      <td>0.0</td>\n      <td>1.0</td>\n      <td>0.0</td>\n      <td>1.0</td>\n    </tr>\n    <tr>\n      <th>229</th>\n      <td>21.0</td>\n      <td>1.0</td>\n      <td>0.0</td>\n      <td>1.0</td>\n      <td>0.0</td>\n      <td>1.0</td>\n      <td>0.0</td>\n      <td>0.0</td>\n      <td>1.0</td>\n      <td>1.0</td>\n      <td>...</td>\n      <td>0.0</td>\n      <td>1.0</td>\n      <td>0.0</td>\n      <td>1.0</td>\n      <td>0.0</td>\n      <td>1.0</td>\n      <td>0.0</td>\n      <td>1.0</td>\n      <td>0.0</td>\n      <td>0.0</td>\n    </tr>\n  </tbody>\n</table>\n<p>5 rows × 24 columns</p>\n</div>"
     },
     "execution_count": 25,
     "metadata": {},
     "output_type": "execute_result"
    }
   ],
   "source": [
    "x_train.head()"
   ],
   "metadata": {
    "collapsed": false,
    "pycharm": {
     "name": "#%%\n"
    }
   }
  },
  {
   "cell_type": "code",
   "execution_count": 26,
   "outputs": [
    {
     "data": {
      "text/plain": "     idade_materna  x0_n_fumo  x0_s_fumo  x0_n_alcool  x0_s_alcool  \\\n161           21.0        1.0        0.0          1.0          0.0   \n326           38.0        1.0        0.0          1.0          0.0   \n295           28.0        1.0        0.0          1.0          0.0   \n179           23.0        1.0        0.0          1.0          0.0   \n48            31.0        1.0        0.0          1.0          0.0   \n\n     x0_n_psico  x0_s_psico  x0_n_tpp  x0_s_tpp  x0_n_dpp  ...  x0_s_sifilis  \\\n161         1.0         0.0       1.0       0.0       1.0  ...           0.0   \n326         1.0         0.0       0.0       1.0       1.0  ...           0.0   \n295         1.0         0.0       1.0       0.0       1.0  ...           0.0   \n179         1.0         0.0       1.0       0.0       1.0  ...           0.0   \n48          1.0         0.0       1.0       0.0       1.0  ...           0.0   \n\n     x0_n_hiv  x0_s_hiv  x0_n_covid  x0_s_covid  x0_n_dheg  x0_s_dheg  \\\n161       1.0       0.0         0.0         0.0        1.0        0.0   \n326       1.0       0.0         1.0         0.0        1.0        0.0   \n295       1.0       0.0         1.0         0.0        0.0        1.0   \n179       1.0       0.0         1.0         0.0        1.0        0.0   \n48        0.0       0.0         1.0         0.0        0.0        0.0   \n\n     x0_n_dm  x0_s_dm  x0_Masculino  \n161      1.0      0.0           0.0  \n326      1.0      0.0           1.0  \n295      1.0      0.0           1.0  \n179      0.0      1.0           1.0  \n48       0.0      0.0           1.0  \n\n[5 rows x 24 columns]",
      "text/html": "<div>\n<style scoped>\n    .dataframe tbody tr th:only-of-type {\n        vertical-align: middle;\n    }\n\n    .dataframe tbody tr th {\n        vertical-align: top;\n    }\n\n    .dataframe thead th {\n        text-align: right;\n    }\n</style>\n<table border=\"1\" class=\"dataframe\">\n  <thead>\n    <tr style=\"text-align: right;\">\n      <th></th>\n      <th>idade_materna</th>\n      <th>x0_n_fumo</th>\n      <th>x0_s_fumo</th>\n      <th>x0_n_alcool</th>\n      <th>x0_s_alcool</th>\n      <th>x0_n_psico</th>\n      <th>x0_s_psico</th>\n      <th>x0_n_tpp</th>\n      <th>x0_s_tpp</th>\n      <th>x0_n_dpp</th>\n      <th>...</th>\n      <th>x0_s_sifilis</th>\n      <th>x0_n_hiv</th>\n      <th>x0_s_hiv</th>\n      <th>x0_n_covid</th>\n      <th>x0_s_covid</th>\n      <th>x0_n_dheg</th>\n      <th>x0_s_dheg</th>\n      <th>x0_n_dm</th>\n      <th>x0_s_dm</th>\n      <th>x0_Masculino</th>\n    </tr>\n  </thead>\n  <tbody>\n    <tr>\n      <th>161</th>\n      <td>21.0</td>\n      <td>1.0</td>\n      <td>0.0</td>\n      <td>1.0</td>\n      <td>0.0</td>\n      <td>1.0</td>\n      <td>0.0</td>\n      <td>1.0</td>\n      <td>0.0</td>\n      <td>1.0</td>\n      <td>...</td>\n      <td>0.0</td>\n      <td>1.0</td>\n      <td>0.0</td>\n      <td>0.0</td>\n      <td>0.0</td>\n      <td>1.0</td>\n      <td>0.0</td>\n      <td>1.0</td>\n      <td>0.0</td>\n      <td>0.0</td>\n    </tr>\n    <tr>\n      <th>326</th>\n      <td>38.0</td>\n      <td>1.0</td>\n      <td>0.0</td>\n      <td>1.0</td>\n      <td>0.0</td>\n      <td>1.0</td>\n      <td>0.0</td>\n      <td>0.0</td>\n      <td>1.0</td>\n      <td>1.0</td>\n      <td>...</td>\n      <td>0.0</td>\n      <td>1.0</td>\n      <td>0.0</td>\n      <td>1.0</td>\n      <td>0.0</td>\n      <td>1.0</td>\n      <td>0.0</td>\n      <td>1.0</td>\n      <td>0.0</td>\n      <td>1.0</td>\n    </tr>\n    <tr>\n      <th>295</th>\n      <td>28.0</td>\n      <td>1.0</td>\n      <td>0.0</td>\n      <td>1.0</td>\n      <td>0.0</td>\n      <td>1.0</td>\n      <td>0.0</td>\n      <td>1.0</td>\n      <td>0.0</td>\n      <td>1.0</td>\n      <td>...</td>\n      <td>0.0</td>\n      <td>1.0</td>\n      <td>0.0</td>\n      <td>1.0</td>\n      <td>0.0</td>\n      <td>0.0</td>\n      <td>1.0</td>\n      <td>1.0</td>\n      <td>0.0</td>\n      <td>1.0</td>\n    </tr>\n    <tr>\n      <th>179</th>\n      <td>23.0</td>\n      <td>1.0</td>\n      <td>0.0</td>\n      <td>1.0</td>\n      <td>0.0</td>\n      <td>1.0</td>\n      <td>0.0</td>\n      <td>1.0</td>\n      <td>0.0</td>\n      <td>1.0</td>\n      <td>...</td>\n      <td>0.0</td>\n      <td>1.0</td>\n      <td>0.0</td>\n      <td>1.0</td>\n      <td>0.0</td>\n      <td>1.0</td>\n      <td>0.0</td>\n      <td>0.0</td>\n      <td>1.0</td>\n      <td>1.0</td>\n    </tr>\n    <tr>\n      <th>48</th>\n      <td>31.0</td>\n      <td>1.0</td>\n      <td>0.0</td>\n      <td>1.0</td>\n      <td>0.0</td>\n      <td>1.0</td>\n      <td>0.0</td>\n      <td>1.0</td>\n      <td>0.0</td>\n      <td>1.0</td>\n      <td>...</td>\n      <td>0.0</td>\n      <td>0.0</td>\n      <td>0.0</td>\n      <td>1.0</td>\n      <td>0.0</td>\n      <td>0.0</td>\n      <td>0.0</td>\n      <td>0.0</td>\n      <td>0.0</td>\n      <td>1.0</td>\n    </tr>\n  </tbody>\n</table>\n<p>5 rows × 24 columns</p>\n</div>"
     },
     "execution_count": 26,
     "metadata": {},
     "output_type": "execute_result"
    }
   ],
   "source": [
    "x_val.head()"
   ],
   "metadata": {
    "collapsed": false,
    "pycharm": {
     "name": "#%%\n"
    }
   }
  },
  {
   "cell_type": "code",
   "execution_count": 27,
   "outputs": [
    {
     "data": {
      "text/plain": "<IPython.core.display.HTML object>",
      "text/html": "Waiting for W&B process to finish... <strong style=\"color:green\">(success).</strong>"
     },
     "metadata": {},
     "output_type": "display_data"
    },
    {
     "data": {
      "text/plain": "VBox(children=(Label(value='0.001 MB of 0.001 MB uploaded (0.000 MB deduped)\\r'), FloatProgress(value=1.0, max…",
      "application/vnd.jupyter.widget-view+json": {
       "version_major": 2,
       "version_minor": 0,
       "model_id": "2264bfb15bb14d318a538692ddd4f5aa"
      }
     },
     "metadata": {},
     "output_type": "display_data"
    },
    {
     "data": {
      "text/plain": "<IPython.core.display.HTML object>",
      "text/html": "Synced <strong style=\"color:#cdcd00\">fiery-deluge-106</strong>: <a href=\"https://wandb.ai/ecalasans/mlreanimacao/runs/1cgxu6q9\" target=\"_blank\">https://wandb.ai/ecalasans/mlreanimacao/runs/1cgxu6q9</a><br/>Synced 5 W&B file(s), 0 media file(s), 0 artifact file(s) and 0 other file(s)"
     },
     "metadata": {},
     "output_type": "display_data"
    },
    {
     "data": {
      "text/plain": "<IPython.core.display.HTML object>",
      "text/html": "Find logs at: <code>./wandb/run-20220603_084312-1cgxu6q9/logs</code>"
     },
     "metadata": {},
     "output_type": "display_data"
    }
   ],
   "source": [
    "# Finaliza a execução do wandb\n",
    "run.finish()"
   ],
   "metadata": {
    "collapsed": false,
    "pycharm": {
     "name": "#%%\n"
    }
   }
  },
  {
   "cell_type": "markdown",
   "source": [
    "## 4. Construção do *Pipeline*"
   ],
   "metadata": {
    "collapsed": false,
    "pycharm": {
     "name": "#%% md\n"
    }
   }
  },
  {
   "cell_type": "markdown",
   "source": [
    "Executar parte do código acima que restaura a estrutura do artefato até antes do *OneHotEncoding*"
   ],
   "metadata": {
    "collapsed": false,
    "pycharm": {
     "name": "#%% md\n"
    }
   }
  },
  {
   "cell_type": "markdown",
   "source": [
    "### 4.1. Criação da Classe **FeatureSelection**"
   ],
   "metadata": {
    "collapsed": false,
    "pycharm": {
     "name": "#%% md\n"
    }
   }
  },
  {
   "cell_type": "code",
   "execution_count": 46,
   "outputs": [],
   "source": [
    "class FeatureSelector(BaseEstimator, TransformerMixin):\n",
    "    # Construtor\n",
    "    def __init__(self, feature_names):\n",
    "        self.feature_names = feature_names\n",
    "\n",
    "    # Override de fit\n",
    "    def fit(self, X, y=None):\n",
    "        return self\n",
    "\n",
    "    # Retorna as colunas passadas no construtor\n",
    "    def transform(self, X, y=None):\n",
    "        return X[self.feature_names]"
   ],
   "metadata": {
    "collapsed": false,
    "pycharm": {
     "name": "#%%\n"
    }
   }
  },
  {
   "cell_type": "code",
   "execution_count": 47,
   "outputs": [
    {
     "data": {
      "text/plain": "       fumo    alcool psicoativas    tpp    dpp oligoamnio    sifilis    hiv  \\\n351  n_fumo  n_alcool     n_psico  n_tpp  n_dpp    n_oligo  n_sifilis  n_hiv   \n267  n_fumo  n_alcool     n_psico  s_tpp  n_dpp    n_oligo  n_sifilis  n_hiv   \n189  n_fumo  n_alcool     n_psico  s_tpp  n_dpp    n_oligo  n_sifilis  n_hiv   \n324  n_fumo  n_alcool     n_psico  n_tpp  n_dpp    n_oligo  n_sifilis  n_hiv   \n229  n_fumo  n_alcool     n_psico  s_tpp  n_dpp    n_oligo  n_sifilis  n_hiv   \n\n    covid_mae    dheg    dm       sexo  \n351   n_covid  n_dheg  n_dm  Masculino  \n267   n_covid  s_dheg  s_dm   Feminino  \n189   n_covid  n_dheg  n_dm  Masculino  \n324   n_covid  n_dheg  n_dm  Masculino  \n229   n_covid  n_dheg  n_dm   Feminino  ",
      "text/html": "<div>\n<style scoped>\n    .dataframe tbody tr th:only-of-type {\n        vertical-align: middle;\n    }\n\n    .dataframe tbody tr th {\n        vertical-align: top;\n    }\n\n    .dataframe thead th {\n        text-align: right;\n    }\n</style>\n<table border=\"1\" class=\"dataframe\">\n  <thead>\n    <tr style=\"text-align: right;\">\n      <th></th>\n      <th>fumo</th>\n      <th>alcool</th>\n      <th>psicoativas</th>\n      <th>tpp</th>\n      <th>dpp</th>\n      <th>oligoamnio</th>\n      <th>sifilis</th>\n      <th>hiv</th>\n      <th>covid_mae</th>\n      <th>dheg</th>\n      <th>dm</th>\n      <th>sexo</th>\n    </tr>\n  </thead>\n  <tbody>\n    <tr>\n      <th>351</th>\n      <td>n_fumo</td>\n      <td>n_alcool</td>\n      <td>n_psico</td>\n      <td>n_tpp</td>\n      <td>n_dpp</td>\n      <td>n_oligo</td>\n      <td>n_sifilis</td>\n      <td>n_hiv</td>\n      <td>n_covid</td>\n      <td>n_dheg</td>\n      <td>n_dm</td>\n      <td>Masculino</td>\n    </tr>\n    <tr>\n      <th>267</th>\n      <td>n_fumo</td>\n      <td>n_alcool</td>\n      <td>n_psico</td>\n      <td>s_tpp</td>\n      <td>n_dpp</td>\n      <td>n_oligo</td>\n      <td>n_sifilis</td>\n      <td>n_hiv</td>\n      <td>n_covid</td>\n      <td>s_dheg</td>\n      <td>s_dm</td>\n      <td>Feminino</td>\n    </tr>\n    <tr>\n      <th>189</th>\n      <td>n_fumo</td>\n      <td>n_alcool</td>\n      <td>n_psico</td>\n      <td>s_tpp</td>\n      <td>n_dpp</td>\n      <td>n_oligo</td>\n      <td>n_sifilis</td>\n      <td>n_hiv</td>\n      <td>n_covid</td>\n      <td>n_dheg</td>\n      <td>n_dm</td>\n      <td>Masculino</td>\n    </tr>\n    <tr>\n      <th>324</th>\n      <td>n_fumo</td>\n      <td>n_alcool</td>\n      <td>n_psico</td>\n      <td>n_tpp</td>\n      <td>n_dpp</td>\n      <td>n_oligo</td>\n      <td>n_sifilis</td>\n      <td>n_hiv</td>\n      <td>n_covid</td>\n      <td>n_dheg</td>\n      <td>n_dm</td>\n      <td>Masculino</td>\n    </tr>\n    <tr>\n      <th>229</th>\n      <td>n_fumo</td>\n      <td>n_alcool</td>\n      <td>n_psico</td>\n      <td>s_tpp</td>\n      <td>n_dpp</td>\n      <td>n_oligo</td>\n      <td>n_sifilis</td>\n      <td>n_hiv</td>\n      <td>n_covid</td>\n      <td>n_dheg</td>\n      <td>n_dm</td>\n      <td>Feminino</td>\n    </tr>\n  </tbody>\n</table>\n</div>"
     },
     "execution_count": 47,
     "metadata": {},
     "output_type": "execute_result"
    }
   ],
   "source": [
    "# Teste da classe\n",
    "fs = FeatureSelector(x_train.select_dtypes(\"object\").columns.to_list())\n",
    "df = fs.fit_transform(x_train)\n",
    "df.head()"
   ],
   "metadata": {
    "collapsed": false,
    "pycharm": {
     "name": "#%%\n"
    }
   }
  },
  {
   "cell_type": "markdown",
   "source": [
    "### 4.2. Criação da Classe **CategoricalTransformer**"
   ],
   "metadata": {
    "collapsed": false,
    "pycharm": {
     "name": "#%% md\n"
    }
   }
  },
  {
   "cell_type": "code",
   "execution_count": 48,
   "outputs": [],
   "source": [
    "class CategoricalTransformer(BaseEstimator, TransformerMixin):\n",
    "    # Construtor\n",
    "    def __init__(self, new_features=True, colnames=None):\n",
    "        self.new_features = new_features\n",
    "        self.colnames = colnames\n",
    "\n",
    "    # Override de fit\n",
    "    def fit(self, X, y=None):\n",
    "        return self\n",
    "\n",
    "    # Override de get_feature_names_out\n",
    "    def get_feature_names_out(self):\n",
    "        return self.colnames.tolist()\n",
    "\n",
    "    # Transformer method we wrote for this transformer\n",
    "    def transform(self, X, y=None):\n",
    "        df = pd.DataFrame(X, columns=self.colnames)\n",
    "\n",
    "        # Remove eventuais espaços em branco dos valores - a princípio isso não existe na base de dados\n",
    "        df = df.apply(lambda row: row.str.strip())\n",
    "        \n",
    "        # Opção de fazer preprocessamento se new_features for True(padrão da classe)\n",
    "        if self.new_features:\n",
    "            df['fumo'].fillna(2, inplace=True)\n",
    "            df['alcool'].fillna(2, inplace=True)\n",
    "            df['psicoativas'].fillna(2, inplace=True)\n",
    "            df['tpp'].fillna(2, inplace=True)\n",
    "            df['dheg'].fillna(2, inplace=True)\n",
    "            df['dm'].fillna(2, inplace=True)\n",
    "            df['sexo'].fillna(3, inplace=True)\n",
    "            df['oligoamnio'].fillna(2, inplace=True)\n",
    "            df['dpp'].fillna(2, inplace=True)\n",
    "            df['sifilis'].fillna(2, inplace=True)\n",
    "            df['hiv'].fillna(2, inplace=True)\n",
    "            df['covid_mae'].fillna(2, inplace=True)\n",
    "\n",
    "            # Elimina valores com sexo indefinido\n",
    "            df.drop(df[df['sexo'] == 3].index, inplace=True)\n",
    "            \n",
    "            # Categoriza as features pois o artefato retorna sempre valores numéricos\n",
    "            df['fumo'].replace([0, 1, 2, 3], ['n_fumo', 's_fumo', 'n_fumo', 'd_fumo'], inplace=True)\n",
    "            df['alcool'].replace([0, 1, 2, 3], ['n_alcool', 's_alcool', 'n_alcool', 'd_alcool'], inplace=True)\n",
    "            df['psicoativas'].replace([0, 1, 2, 3], ['n_psico', 's_psico', 'n_psico', 'd_psico'], inplace=True)\n",
    "            df['tpp'].replace([0, 1, 2, 3], ['n_tpp', 's_tpp', 'n_tpp', 'd_tpp'], inplace=True)\n",
    "            df['dheg'].replace([0, 1, 2, 3], ['n_dheg', 's_dheg', 'n_dheg', 'd_dheg'], inplace=True)\n",
    "            \n",
    "                # Melhor adequação da feature sexo\n",
    "            df['sexo'].replace([1,2], ['Feminino', 'Masculino'], inplace=True)\n",
    "            df['dpp'].replace([0, 1, 2, 3], ['n_dpp', 's_dpp', 'n_dpp', 'd_dpp'], inplace=True)\n",
    "            df['oligoamnio'].replace([0, 1, 2, 3], ['n_oligo', 's_oligo', 'n_oligo', 'd_oligo'], inplace=True)\n",
    "            df['sifilis'].replace([0, 1, 2, 3], ['n_sifilis', 's_sifilis', 'n_sifilis', 'd_sifilis'], inplace=True)\n",
    "            df['hiv'].replace([0, 1, 2, 3], ['n_hiv', 's_hiv', 'n_hiv', 'd_hiv'], inplace=True)\n",
    "            df['covid_mae'].replace([0, 1, 2, 3], ['n_covid', 's_covid', 'n_covid', 'd_covid'], inplace=True)\n",
    "            \n",
    "                # Consolidações\n",
    "            df['dm'].replace([0,1,2,3,4,5,6], ['n_dm', 'n_dm','s_dm','s_dm', 's_dm','s_dm','d_dm'], inplace=True)\n",
    "\n",
    "        self.colnames = df.columns\n",
    "\n",
    "        return df"
   ],
   "metadata": {
    "collapsed": false,
    "pycharm": {
     "name": "#%%\n"
    }
   }
  },
  {
   "cell_type": "code",
   "execution_count": 49,
   "outputs": [
    {
     "data": {
      "text/plain": "       fumo    alcool psicoativas    tpp    dpp oligoamnio    sifilis    hiv  \\\n351  n_fumo  n_alcool     n_psico  n_tpp  n_dpp    n_oligo  n_sifilis  n_hiv   \n267  n_fumo  n_alcool     n_psico  s_tpp  n_dpp    n_oligo  n_sifilis  n_hiv   \n189  n_fumo  n_alcool     n_psico  s_tpp  n_dpp    n_oligo  n_sifilis  n_hiv   \n324  n_fumo  n_alcool     n_psico  n_tpp  n_dpp    n_oligo  n_sifilis  n_hiv   \n229  n_fumo  n_alcool     n_psico  s_tpp  n_dpp    n_oligo  n_sifilis  n_hiv   \n\n    covid_mae    dheg    dm       sexo  \n351   n_covid  n_dheg  n_dm  Masculino  \n267   n_covid  s_dheg  s_dm   Feminino  \n189   n_covid  n_dheg  n_dm  Masculino  \n324   n_covid  n_dheg  n_dm  Masculino  \n229   n_covid  n_dheg  n_dm   Feminino  ",
      "text/html": "<div>\n<style scoped>\n    .dataframe tbody tr th:only-of-type {\n        vertical-align: middle;\n    }\n\n    .dataframe tbody tr th {\n        vertical-align: top;\n    }\n\n    .dataframe thead th {\n        text-align: right;\n    }\n</style>\n<table border=\"1\" class=\"dataframe\">\n  <thead>\n    <tr style=\"text-align: right;\">\n      <th></th>\n      <th>fumo</th>\n      <th>alcool</th>\n      <th>psicoativas</th>\n      <th>tpp</th>\n      <th>dpp</th>\n      <th>oligoamnio</th>\n      <th>sifilis</th>\n      <th>hiv</th>\n      <th>covid_mae</th>\n      <th>dheg</th>\n      <th>dm</th>\n      <th>sexo</th>\n    </tr>\n  </thead>\n  <tbody>\n    <tr>\n      <th>351</th>\n      <td>n_fumo</td>\n      <td>n_alcool</td>\n      <td>n_psico</td>\n      <td>n_tpp</td>\n      <td>n_dpp</td>\n      <td>n_oligo</td>\n      <td>n_sifilis</td>\n      <td>n_hiv</td>\n      <td>n_covid</td>\n      <td>n_dheg</td>\n      <td>n_dm</td>\n      <td>Masculino</td>\n    </tr>\n    <tr>\n      <th>267</th>\n      <td>n_fumo</td>\n      <td>n_alcool</td>\n      <td>n_psico</td>\n      <td>s_tpp</td>\n      <td>n_dpp</td>\n      <td>n_oligo</td>\n      <td>n_sifilis</td>\n      <td>n_hiv</td>\n      <td>n_covid</td>\n      <td>s_dheg</td>\n      <td>s_dm</td>\n      <td>Feminino</td>\n    </tr>\n    <tr>\n      <th>189</th>\n      <td>n_fumo</td>\n      <td>n_alcool</td>\n      <td>n_psico</td>\n      <td>s_tpp</td>\n      <td>n_dpp</td>\n      <td>n_oligo</td>\n      <td>n_sifilis</td>\n      <td>n_hiv</td>\n      <td>n_covid</td>\n      <td>n_dheg</td>\n      <td>n_dm</td>\n      <td>Masculino</td>\n    </tr>\n    <tr>\n      <th>324</th>\n      <td>n_fumo</td>\n      <td>n_alcool</td>\n      <td>n_psico</td>\n      <td>n_tpp</td>\n      <td>n_dpp</td>\n      <td>n_oligo</td>\n      <td>n_sifilis</td>\n      <td>n_hiv</td>\n      <td>n_covid</td>\n      <td>n_dheg</td>\n      <td>n_dm</td>\n      <td>Masculino</td>\n    </tr>\n    <tr>\n      <th>229</th>\n      <td>n_fumo</td>\n      <td>n_alcool</td>\n      <td>n_psico</td>\n      <td>s_tpp</td>\n      <td>n_dpp</td>\n      <td>n_oligo</td>\n      <td>n_sifilis</td>\n      <td>n_hiv</td>\n      <td>n_covid</td>\n      <td>n_dheg</td>\n      <td>n_dm</td>\n      <td>Feminino</td>\n    </tr>\n  </tbody>\n</table>\n</div>"
     },
     "execution_count": 49,
     "metadata": {},
     "output_type": "execute_result"
    }
   ],
   "source": [
    "# Validação\n",
    "fs = FeatureSelector(x_train.select_dtypes(\"object\").columns.to_list())\n",
    "df = fs.fit_transform(x_train)\n",
    "df.head()"
   ],
   "metadata": {
    "collapsed": false,
    "pycharm": {
     "name": "#%%\n"
    }
   }
  },
  {
   "cell_type": "code",
   "execution_count": 50,
   "outputs": [
    {
     "data": {
      "text/plain": "       fumo    alcool psicoativas    tpp    dpp oligoamnio    sifilis    hiv  \\\n351  n_fumo  n_alcool     n_psico  n_tpp  n_dpp    n_oligo  n_sifilis  n_hiv   \n267  n_fumo  n_alcool     n_psico  s_tpp  n_dpp    n_oligo  n_sifilis  n_hiv   \n189  n_fumo  n_alcool     n_psico  s_tpp  n_dpp    n_oligo  n_sifilis  n_hiv   \n324  n_fumo  n_alcool     n_psico  n_tpp  n_dpp    n_oligo  n_sifilis  n_hiv   \n229  n_fumo  n_alcool     n_psico  s_tpp  n_dpp    n_oligo  n_sifilis  n_hiv   \n\n    covid_mae    dheg    dm       sexo  \n351   n_covid  n_dheg  n_dm  Masculino  \n267   n_covid  s_dheg  s_dm   Feminino  \n189   n_covid  n_dheg  n_dm  Masculino  \n324   n_covid  n_dheg  n_dm  Masculino  \n229   n_covid  n_dheg  n_dm   Feminino  ",
      "text/html": "<div>\n<style scoped>\n    .dataframe tbody tr th:only-of-type {\n        vertical-align: middle;\n    }\n\n    .dataframe tbody tr th {\n        vertical-align: top;\n    }\n\n    .dataframe thead th {\n        text-align: right;\n    }\n</style>\n<table border=\"1\" class=\"dataframe\">\n  <thead>\n    <tr style=\"text-align: right;\">\n      <th></th>\n      <th>fumo</th>\n      <th>alcool</th>\n      <th>psicoativas</th>\n      <th>tpp</th>\n      <th>dpp</th>\n      <th>oligoamnio</th>\n      <th>sifilis</th>\n      <th>hiv</th>\n      <th>covid_mae</th>\n      <th>dheg</th>\n      <th>dm</th>\n      <th>sexo</th>\n    </tr>\n  </thead>\n  <tbody>\n    <tr>\n      <th>351</th>\n      <td>n_fumo</td>\n      <td>n_alcool</td>\n      <td>n_psico</td>\n      <td>n_tpp</td>\n      <td>n_dpp</td>\n      <td>n_oligo</td>\n      <td>n_sifilis</td>\n      <td>n_hiv</td>\n      <td>n_covid</td>\n      <td>n_dheg</td>\n      <td>n_dm</td>\n      <td>Masculino</td>\n    </tr>\n    <tr>\n      <th>267</th>\n      <td>n_fumo</td>\n      <td>n_alcool</td>\n      <td>n_psico</td>\n      <td>s_tpp</td>\n      <td>n_dpp</td>\n      <td>n_oligo</td>\n      <td>n_sifilis</td>\n      <td>n_hiv</td>\n      <td>n_covid</td>\n      <td>s_dheg</td>\n      <td>s_dm</td>\n      <td>Feminino</td>\n    </tr>\n    <tr>\n      <th>189</th>\n      <td>n_fumo</td>\n      <td>n_alcool</td>\n      <td>n_psico</td>\n      <td>s_tpp</td>\n      <td>n_dpp</td>\n      <td>n_oligo</td>\n      <td>n_sifilis</td>\n      <td>n_hiv</td>\n      <td>n_covid</td>\n      <td>n_dheg</td>\n      <td>n_dm</td>\n      <td>Masculino</td>\n    </tr>\n    <tr>\n      <th>324</th>\n      <td>n_fumo</td>\n      <td>n_alcool</td>\n      <td>n_psico</td>\n      <td>n_tpp</td>\n      <td>n_dpp</td>\n      <td>n_oligo</td>\n      <td>n_sifilis</td>\n      <td>n_hiv</td>\n      <td>n_covid</td>\n      <td>n_dheg</td>\n      <td>n_dm</td>\n      <td>Masculino</td>\n    </tr>\n    <tr>\n      <th>229</th>\n      <td>n_fumo</td>\n      <td>n_alcool</td>\n      <td>n_psico</td>\n      <td>s_tpp</td>\n      <td>n_dpp</td>\n      <td>n_oligo</td>\n      <td>n_sifilis</td>\n      <td>n_hiv</td>\n      <td>n_covid</td>\n      <td>n_dheg</td>\n      <td>n_dm</td>\n      <td>Feminino</td>\n    </tr>\n  </tbody>\n</table>\n</div>"
     },
     "execution_count": 50,
     "metadata": {},
     "output_type": "execute_result"
    }
   ],
   "source": [
    "ct = CategoricalTransformer(new_features=True, colnames=df.columns.to_list())\n",
    "df_cat = ct.fit_transform(x_train)\n",
    "df_cat.head()"
   ],
   "metadata": {
    "collapsed": false,
    "pycharm": {
     "name": "#%%\n"
    }
   }
  },
  {
   "cell_type": "code",
   "execution_count": 51,
   "outputs": [
    {
     "data": {
      "text/plain": "fumo           3\nalcool         3\npsicoativas    3\ntpp            3\ndpp            3\noligoamnio     3\nsifilis        3\nhiv            3\ncovid_mae      3\ndheg           3\ndm             3\nsexo           2\ndtype: int64"
     },
     "execution_count": 51,
     "metadata": {},
     "output_type": "execute_result"
    }
   ],
   "source": [
    "x_train.select_dtypes(\"object\").apply(pd.Series.nunique)"
   ],
   "metadata": {
    "collapsed": false,
    "pycharm": {
     "name": "#%%\n"
    }
   }
  },
  {
   "cell_type": "code",
   "execution_count": 52,
   "outputs": [
    {
     "data": {
      "text/plain": "fumo           3\nalcool         3\npsicoativas    3\ntpp            3\ndpp            3\noligoamnio     3\nsifilis        3\nhiv            3\ncovid_mae      3\ndheg           3\ndm             3\nsexo           2\ndtype: int64"
     },
     "execution_count": 52,
     "metadata": {},
     "output_type": "execute_result"
    }
   ],
   "source": [
    "df_cat.apply(pd.Series.nunique)"
   ],
   "metadata": {
    "collapsed": false,
    "pycharm": {
     "name": "#%%\n"
    }
   }
  },
  {
   "cell_type": "markdown",
   "source": [
    "### 4.3. Criação da Classe **NumericalTransformer**"
   ],
   "metadata": {
    "collapsed": false,
    "pycharm": {
     "name": "#%% md\n"
    }
   }
  },
  {
   "cell_type": "code",
   "execution_count": 53,
   "outputs": [],
   "source": [
    "class NumericalTransformer(BaseEstimator, TransformerMixin):\n",
    "    # Tipos de scalers\n",
    "    # model 0: minmax\n",
    "    # model 1: standard\n",
    "    # model 2: without scaler\n",
    "    def __init__(self, model=0, colnames=None):\n",
    "        self.model = model\n",
    "        self.colnames = colnames\n",
    "        self.scaler = None\n",
    "\n",
    "    def fit(self, X, y=None):\n",
    "        df = pd.DataFrame(X, columns=self.colnames)\n",
    "        # minmax\n",
    "        if self.model == 0:\n",
    "            self.scaler = MinMaxScaler()\n",
    "            self.scaler.fit(df)\n",
    "        # standard scaler\n",
    "        elif self.model == 1:\n",
    "            self.scaler = StandardScaler()\n",
    "            self.scaler.fit(df)\n",
    "        return self\n",
    "\n",
    "    def get_feature_names_out(self):\n",
    "        return self.colnames\n",
    "\n",
    "    def transform(self, X, y=None):\n",
    "        df = pd.DataFrame(X, columns=self.colnames)\n",
    "\n",
    "        # update columns name\n",
    "        self.colnames = df.columns.tolist()\n",
    "\n",
    "        # minmax\n",
    "        if self.model == 0:\n",
    "            # transform data\n",
    "            df = self.scaler.transform(df)\n",
    "        elif self.model == 1:\n",
    "            # transform data\n",
    "            df = self.scaler.transform(df)\n",
    "        else:\n",
    "            df = df.values\n",
    "\n",
    "        return df\n"
   ],
   "metadata": {
    "collapsed": false,
    "pycharm": {
     "name": "#%%\n"
    }
   }
  },
  {
   "cell_type": "code",
   "execution_count": 54,
   "outputs": [
    {
     "data": {
      "text/plain": "     idade_materna\n351           32.0\n267           26.0\n189           21.0\n324           36.0\n229           21.0",
      "text/html": "<div>\n<style scoped>\n    .dataframe tbody tr th:only-of-type {\n        vertical-align: middle;\n    }\n\n    .dataframe tbody tr th {\n        vertical-align: top;\n    }\n\n    .dataframe thead th {\n        text-align: right;\n    }\n</style>\n<table border=\"1\" class=\"dataframe\">\n  <thead>\n    <tr style=\"text-align: right;\">\n      <th></th>\n      <th>idade_materna</th>\n    </tr>\n  </thead>\n  <tbody>\n    <tr>\n      <th>351</th>\n      <td>32.0</td>\n    </tr>\n    <tr>\n      <th>267</th>\n      <td>26.0</td>\n    </tr>\n    <tr>\n      <th>189</th>\n      <td>21.0</td>\n    </tr>\n    <tr>\n      <th>324</th>\n      <td>36.0</td>\n    </tr>\n    <tr>\n      <th>229</th>\n      <td>21.0</td>\n    </tr>\n  </tbody>\n</table>\n</div>"
     },
     "execution_count": 54,
     "metadata": {},
     "output_type": "execute_result"
    }
   ],
   "source": [
    "# Validação\n",
    "fs = FeatureSelector(x_train.select_dtypes(\"float64\").columns.to_list())\n",
    "df = fs.fit_transform(x_train)\n",
    "df.head()"
   ],
   "metadata": {
    "collapsed": false,
    "pycharm": {
     "name": "#%%\n"
    }
   }
  },
  {
   "cell_type": "code",
   "execution_count": 55,
   "outputs": [
    {
     "data": {
      "text/plain": "array([[ 0.52206813],\n       [-0.37991464],\n       [-1.13156695],\n       [ 1.12338998],\n       [-1.13156695],\n       [-1.13156695],\n       [-0.37991464],\n       [-1.28189741],\n       [ 2.02537275],\n       [ 0.97305952],\n       [ 0.52206813],\n       [ 0.07107675],\n       [-0.98123649],\n       [ 0.97305952],\n       [-0.5302451 ],\n       [-0.83090603],\n       [ 1.87504229],\n       [ 0.67239859],\n       [-0.22958418],\n       [-1.43222787],\n       [ 0.82272906],\n       [-1.43222787],\n       [-1.13156695],\n       [ 0.07107675],\n       [ 0.82272906],\n       [ 0.97305952],\n       [ 1.4240509 ],\n       [ 0.82272906],\n       [-1.88321926],\n       [ 1.57438137],\n       [-0.37991464],\n       [ 0.07107675],\n       [-0.37991464],\n       [ 0.82272906],\n       [-0.98123649],\n       [ 0.22140721],\n       [-0.22958418],\n       [ 0.52206813],\n       [ 0.52206813],\n       [ 0.67239859],\n       [ 0.37173767],\n       [-1.58255834],\n       [ 0.52206813],\n       [-0.37991464],\n       [-0.07925372],\n       [ 1.27372044],\n       [-1.7328888 ],\n       [ 0.67239859],\n       [ 0.67239859],\n       [-1.43222787],\n       [-1.7328888 ],\n       [ 0.97305952],\n       [ 0.37173767],\n       [-1.58255834],\n       [-0.22958418],\n       [ 0.22140721],\n       [ 0.22140721],\n       [ 0.52206813],\n       [ 0.97305952],\n       [ 0.07107675],\n       [-0.98123649],\n       [ 1.12338998],\n       [ 0.67239859],\n       [ 0.97305952],\n       [-1.13156695],\n       [ 1.12338998],\n       [-1.43222787],\n       [ 0.82272906],\n       [ 1.57438137],\n       [-0.83090603],\n       [ 0.67239859],\n       [-1.43222787],\n       [ 0.97305952],\n       [ 0.97305952],\n       [-0.07925372],\n       [-1.58255834],\n       [ 0.07107675],\n       [-0.98123649],\n       [ 1.4240509 ],\n       [-0.37991464],\n       [-1.13156695],\n       [-0.22958418],\n       [-0.68057556],\n       [ 0.67239859],\n       [ 1.12338998],\n       [ 0.67239859],\n       [ 0.67239859],\n       [ 0.82272906],\n       [-0.5302451 ],\n       [ 1.4240509 ],\n       [-1.28189741],\n       [-1.13156695],\n       [ 0.07107675],\n       [ 0.37173767],\n       [ 0.82272906],\n       [-0.07925372],\n       [-0.83090603],\n       [ 1.4240509 ],\n       [ 0.52206813],\n       [-1.28189741],\n       [-0.68057556],\n       [ 1.87504229],\n       [-1.28189741],\n       [-0.37991464],\n       [ 1.27372044],\n       [-1.13156695],\n       [ 0.97305952],\n       [-0.5302451 ],\n       [-1.13156695],\n       [-0.83090603],\n       [ 0.52206813],\n       [-0.68057556],\n       [-1.7328888 ],\n       [-0.68057556],\n       [-0.22958418],\n       [ 2.02537275],\n       [ 1.12338998],\n       [-1.43222787],\n       [ 0.67239859],\n       [ 1.27372044],\n       [-1.13156695],\n       [ 0.82272906],\n       [-1.58255834],\n       [ 0.22140721],\n       [ 0.37173767],\n       [-0.07925372],\n       [-0.98123649],\n       [-0.22958418],\n       [ 0.37173767],\n       [-0.68057556],\n       [-0.07925372],\n       [ 0.97305952],\n       [-0.07925372],\n       [-0.98123649],\n       [-1.13156695],\n       [ 0.22140721],\n       [ 1.27372044],\n       [-0.5302451 ],\n       [-0.68057556],\n       [ 0.07107675],\n       [ 0.67239859],\n       [ 1.72471183],\n       [ 1.87504229],\n       [ 0.82272906],\n       [ 1.72471183],\n       [-1.13156695],\n       [-0.98123649],\n       [-0.07925372],\n       [-0.98123649],\n       [-0.98123649],\n       [ 0.07107675],\n       [ 0.67239859],\n       [-0.98123649],\n       [ 0.52206813],\n       [-1.88321926],\n       [ 0.82272906],\n       [ 1.72471183],\n       [-1.28189741],\n       [ 0.37173767],\n       [-0.07925372],\n       [ 0.97305952],\n       [-1.13156695],\n       [-0.07925372],\n       [ 0.37173767],\n       [-0.68057556],\n       [-0.83090603],\n       [-1.43222787],\n       [-0.22958418],\n       [-0.83090603],\n       [-1.58255834],\n       [-0.68057556],\n       [ 0.07107675],\n       [-0.22958418],\n       [ 0.22140721],\n       [ 0.97305952],\n       [-0.83090603],\n       [ 0.07107675],\n       [-0.07925372],\n       [-1.13156695],\n       [ 0.52206813],\n       [-0.22958418],\n       [ 0.07107675],\n       [-1.58255834],\n       [ 1.4240509 ],\n       [ 1.4240509 ],\n       [-1.28189741],\n       [-0.22958418],\n       [ 0.37173767],\n       [ 1.27372044],\n       [ 1.87504229],\n       [-0.83090603],\n       [ 0.37173767],\n       [-0.22958418],\n       [ 1.87504229],\n       [-0.07925372],\n       [-0.68057556],\n       [-0.07925372],\n       [ 0.22140721],\n       [-0.37991464],\n       [-0.37991464],\n       [-1.88321926],\n       [ 1.72471183],\n       [ 1.27372044],\n       [ 1.12338998],\n       [ 1.12338998],\n       [-1.28189741],\n       [-0.5302451 ],\n       [-0.07925372],\n       [ 1.72471183],\n       [ 1.27372044],\n       [-0.68057556],\n       [-0.98123649],\n       [-1.13156695],\n       [ 0.07107675],\n       [-0.07925372],\n       [ 1.57438137],\n       [ 0.82272906],\n       [-0.68057556],\n       [ 0.97305952],\n       [-0.07925372],\n       [-1.28189741],\n       [-1.58255834],\n       [-0.37991464],\n       [ 1.4240509 ],\n       [ 0.52206813],\n       [-0.5302451 ],\n       [-1.88321926],\n       [-0.37991464],\n       [-0.83090603],\n       [-1.58255834],\n       [ 0.37173767],\n       [-0.5302451 ],\n       [ 1.4240509 ],\n       [ 1.27372044],\n       [ 1.57438137],\n       [ 1.27372044],\n       [-0.37991464],\n       [-1.28189741],\n       [ 0.97305952]])"
     },
     "execution_count": 55,
     "metadata": {},
     "output_type": "execute_result"
    }
   ],
   "source": [
    "nt = NumericalTransformer(model=1, colnames=df.columns.to_list())\n",
    "df_nt = nt.fit_transform(df)\n",
    "df_nt"
   ],
   "metadata": {
    "collapsed": false,
    "pycharm": {
     "name": "#%%\n"
    }
   }
  },
  {
   "cell_type": "code",
   "execution_count": 56,
   "outputs": [
    {
     "data": {
      "text/plain": "['idade_materna']"
     },
     "execution_count": 56,
     "metadata": {},
     "output_type": "execute_result"
    }
   ],
   "source": [
    "nt.get_feature_names_out()"
   ],
   "metadata": {
    "collapsed": false,
    "pycharm": {
     "name": "#%%\n"
    }
   }
  },
  {
   "cell_type": "markdown",
   "source": [
    "### 4.4.  Encadeamento"
   ],
   "metadata": {
    "collapsed": false,
    "pycharm": {
     "name": "#%% md\n"
    }
   }
  },
  {
   "cell_type": "code",
   "execution_count": 114,
   "outputs": [],
   "source": [
    "# Tipos de scalers = 0 (min-max), 1 (z-score), 2 (without normalization)\n",
    "numerical_model = 0\n",
    "\n",
    "# Features categóricas\n",
    "categorical_features = x_train.select_dtypes(\"object\").columns.to_list()\n",
    "\n",
    "# Features numéricas\n",
    "numerical_features = x_train.select_dtypes(\"float64\").columns.to_list()\n",
    "\n",
    "# A parte de preenchimento de dados faltantes já é realizada pela classe CategoricalTransformer\n",
    "categorical_pipeline = Pipeline(steps=[('cat_selector', FeatureSelector(categorical_features)),\n",
    "                                       ('cat_transformer', CategoricalTransformer(colnames=categorical_features)),\n",
    "                                       ('cat_encoder', OneHotEncoder(sparse=False, drop=\"first\"))\n",
    "                                       ]\n",
    "                                )\n",
    "\n",
    "# A parte de preenchimento de dados faltantes já é realizada pela classe NumericalTransformer\n",
    "numerical_pipeline = Pipeline(steps=[('num_selector', FeatureSelector(numerical_features)),\n",
    "                                     ('num_transformer', NumericalTransformer(numerical_model,\n",
    "                                                                              colnames=numerical_features))])\n",
    "\n",
    "# Reune os Pipelines num só\n",
    "full_pipeline_preprocessing = FeatureUnion(transformer_list=[('cat_pipeline', categorical_pipeline),\n",
    "                                                             ('num_pipeline', numerical_pipeline)])"
   ],
   "metadata": {
    "collapsed": false,
    "pycharm": {
     "name": "#%%\n"
    }
   }
  },
  {
   "cell_type": "code",
   "execution_count": 115,
   "outputs": [],
   "source": [
    "# Validação\n",
    "new_data = full_pipeline_preprocessing.fit_transform(x_train)"
   ],
   "metadata": {
    "collapsed": false,
    "pycharm": {
     "name": "#%%\n"
    }
   }
  },
  {
   "cell_type": "code",
   "execution_count": 116,
   "outputs": [
    {
     "data": {
      "text/plain": "array([[1.        , 0.        , 1.        , ..., 0.        , 1.        ,\n        0.61538462],\n       [1.        , 0.        , 1.        , ..., 1.        , 0.        ,\n        0.38461538],\n       [1.        , 0.        , 1.        , ..., 0.        , 1.        ,\n        0.19230769],\n       ...,\n       [1.        , 0.        , 1.        , ..., 0.        , 1.        ,\n        0.38461538],\n       [1.        , 0.        , 1.        , ..., 0.        , 1.        ,\n        0.15384615],\n       [1.        , 0.        , 1.        , ..., 0.        , 0.        ,\n        0.73076923]])"
     },
     "execution_count": 116,
     "metadata": {},
     "output_type": "execute_result"
    }
   ],
   "source": [
    "new_data"
   ],
   "metadata": {
    "collapsed": false,
    "pycharm": {
     "name": "#%%\n"
    }
   }
  },
  {
   "cell_type": "code",
   "execution_count": 117,
   "outputs": [
    {
     "data": {
      "text/plain": "['fumo_n_fumo',\n 'fumo_s_fumo',\n 'alcool_n_alcool',\n 'alcool_s_alcool',\n 'psicoativas_n_psico',\n 'psicoativas_s_psico',\n 'tpp_n_tpp',\n 'tpp_s_tpp',\n 'dpp_n_dpp',\n 'dpp_s_dpp',\n 'oligoamnio_n_oligo',\n 'oligoamnio_s_oligo',\n 'sifilis_n_sifilis',\n 'sifilis_s_sifilis',\n 'hiv_n_hiv',\n 'hiv_s_hiv',\n 'covid_mae_n_covid',\n 'covid_mae_s_covid',\n 'dheg_n_dheg',\n 'dheg_s_dheg',\n 'dm_n_dm',\n 'dm_s_dm',\n 'sexo_Masculino']"
     },
     "execution_count": 117,
     "metadata": {},
     "output_type": "execute_result"
    }
   ],
   "source": [
    "cat_names = list(full_pipeline_preprocessing.get_params()['cat_pipeline'][2].get_feature_names_out())\n",
    "cat_names"
   ],
   "metadata": {
    "collapsed": false,
    "pycharm": {
     "name": "#%%\n"
    }
   }
  },
  {
   "cell_type": "code",
   "execution_count": 118,
   "outputs": [
    {
     "data": {
      "text/plain": "list"
     },
     "execution_count": 118,
     "metadata": {},
     "output_type": "execute_result"
    }
   ],
   "source": [
    "num_names = full_pipeline_preprocessing.get_params()['num_pipeline'][1].get_feature_names_out()\n",
    "type(num_names)"
   ],
   "metadata": {
    "collapsed": false,
    "pycharm": {
     "name": "#%%\n"
    }
   }
  },
  {
   "cell_type": "code",
   "execution_count": 119,
   "outputs": [
    {
     "data": {
      "text/plain": "   fumo_n_fumo  fumo_s_fumo  alcool_n_alcool  alcool_s_alcool  \\\n0          1.0          0.0              1.0              0.0   \n1          1.0          0.0              1.0              0.0   \n2          1.0          0.0              1.0              0.0   \n3          1.0          0.0              1.0              0.0   \n4          1.0          0.0              1.0              0.0   \n\n   psicoativas_n_psico  psicoativas_s_psico  tpp_n_tpp  tpp_s_tpp  dpp_n_dpp  \\\n0                  1.0                  0.0        1.0        0.0        1.0   \n1                  1.0                  0.0        0.0        1.0        1.0   \n2                  1.0                  0.0        0.0        1.0        1.0   \n3                  1.0                  0.0        1.0        0.0        1.0   \n4                  1.0                  0.0        0.0        1.0        1.0   \n\n   dpp_s_dpp  ...  hiv_n_hiv  hiv_s_hiv  covid_mae_n_covid  covid_mae_s_covid  \\\n0        0.0  ...        1.0        0.0                1.0                0.0   \n1        0.0  ...        1.0        0.0                1.0                0.0   \n2        0.0  ...        1.0        0.0                1.0                0.0   \n3        0.0  ...        1.0        0.0                1.0                0.0   \n4        0.0  ...        1.0        0.0                1.0                0.0   \n\n   dheg_n_dheg  dheg_s_dheg  dm_n_dm  dm_s_dm  sexo_Masculino  idade_materna  \n0          1.0          0.0      1.0      0.0             1.0       0.615385  \n1          0.0          1.0      0.0      1.0             0.0       0.384615  \n2          1.0          0.0      1.0      0.0             1.0       0.192308  \n3          1.0          0.0      1.0      0.0             1.0       0.769231  \n4          1.0          0.0      1.0      0.0             0.0       0.192308  \n\n[5 rows x 24 columns]",
      "text/html": "<div>\n<style scoped>\n    .dataframe tbody tr th:only-of-type {\n        vertical-align: middle;\n    }\n\n    .dataframe tbody tr th {\n        vertical-align: top;\n    }\n\n    .dataframe thead th {\n        text-align: right;\n    }\n</style>\n<table border=\"1\" class=\"dataframe\">\n  <thead>\n    <tr style=\"text-align: right;\">\n      <th></th>\n      <th>fumo_n_fumo</th>\n      <th>fumo_s_fumo</th>\n      <th>alcool_n_alcool</th>\n      <th>alcool_s_alcool</th>\n      <th>psicoativas_n_psico</th>\n      <th>psicoativas_s_psico</th>\n      <th>tpp_n_tpp</th>\n      <th>tpp_s_tpp</th>\n      <th>dpp_n_dpp</th>\n      <th>dpp_s_dpp</th>\n      <th>...</th>\n      <th>hiv_n_hiv</th>\n      <th>hiv_s_hiv</th>\n      <th>covid_mae_n_covid</th>\n      <th>covid_mae_s_covid</th>\n      <th>dheg_n_dheg</th>\n      <th>dheg_s_dheg</th>\n      <th>dm_n_dm</th>\n      <th>dm_s_dm</th>\n      <th>sexo_Masculino</th>\n      <th>idade_materna</th>\n    </tr>\n  </thead>\n  <tbody>\n    <tr>\n      <th>0</th>\n      <td>1.0</td>\n      <td>0.0</td>\n      <td>1.0</td>\n      <td>0.0</td>\n      <td>1.0</td>\n      <td>0.0</td>\n      <td>1.0</td>\n      <td>0.0</td>\n      <td>1.0</td>\n      <td>0.0</td>\n      <td>...</td>\n      <td>1.0</td>\n      <td>0.0</td>\n      <td>1.0</td>\n      <td>0.0</td>\n      <td>1.0</td>\n      <td>0.0</td>\n      <td>1.0</td>\n      <td>0.0</td>\n      <td>1.0</td>\n      <td>0.615385</td>\n    </tr>\n    <tr>\n      <th>1</th>\n      <td>1.0</td>\n      <td>0.0</td>\n      <td>1.0</td>\n      <td>0.0</td>\n      <td>1.0</td>\n      <td>0.0</td>\n      <td>0.0</td>\n      <td>1.0</td>\n      <td>1.0</td>\n      <td>0.0</td>\n      <td>...</td>\n      <td>1.0</td>\n      <td>0.0</td>\n      <td>1.0</td>\n      <td>0.0</td>\n      <td>0.0</td>\n      <td>1.0</td>\n      <td>0.0</td>\n      <td>1.0</td>\n      <td>0.0</td>\n      <td>0.384615</td>\n    </tr>\n    <tr>\n      <th>2</th>\n      <td>1.0</td>\n      <td>0.0</td>\n      <td>1.0</td>\n      <td>0.0</td>\n      <td>1.0</td>\n      <td>0.0</td>\n      <td>0.0</td>\n      <td>1.0</td>\n      <td>1.0</td>\n      <td>0.0</td>\n      <td>...</td>\n      <td>1.0</td>\n      <td>0.0</td>\n      <td>1.0</td>\n      <td>0.0</td>\n      <td>1.0</td>\n      <td>0.0</td>\n      <td>1.0</td>\n      <td>0.0</td>\n      <td>1.0</td>\n      <td>0.192308</td>\n    </tr>\n    <tr>\n      <th>3</th>\n      <td>1.0</td>\n      <td>0.0</td>\n      <td>1.0</td>\n      <td>0.0</td>\n      <td>1.0</td>\n      <td>0.0</td>\n      <td>1.0</td>\n      <td>0.0</td>\n      <td>1.0</td>\n      <td>0.0</td>\n      <td>...</td>\n      <td>1.0</td>\n      <td>0.0</td>\n      <td>1.0</td>\n      <td>0.0</td>\n      <td>1.0</td>\n      <td>0.0</td>\n      <td>1.0</td>\n      <td>0.0</td>\n      <td>1.0</td>\n      <td>0.769231</td>\n    </tr>\n    <tr>\n      <th>4</th>\n      <td>1.0</td>\n      <td>0.0</td>\n      <td>1.0</td>\n      <td>0.0</td>\n      <td>1.0</td>\n      <td>0.0</td>\n      <td>0.0</td>\n      <td>1.0</td>\n      <td>1.0</td>\n      <td>0.0</td>\n      <td>...</td>\n      <td>1.0</td>\n      <td>0.0</td>\n      <td>1.0</td>\n      <td>0.0</td>\n      <td>1.0</td>\n      <td>0.0</td>\n      <td>1.0</td>\n      <td>0.0</td>\n      <td>0.0</td>\n      <td>0.192308</td>\n    </tr>\n  </tbody>\n</table>\n<p>5 rows × 24 columns</p>\n</div>"
     },
     "execution_count": 119,
     "metadata": {},
     "output_type": "execute_result"
    }
   ],
   "source": [
    "df = pd.DataFrame(new_data, columns=cat_names+num_names)\n",
    "df.head()"
   ],
   "metadata": {
    "collapsed": false,
    "pycharm": {
     "name": "#%%\n"
    }
   }
  },
  {
   "cell_type": "markdown",
   "source": [
    "## 5. *Holdout Training*"
   ],
   "metadata": {
    "collapsed": false,
    "pycharm": {
     "name": "#%% md\n"
    }
   }
  },
  {
   "cell_type": "markdown",
   "source": [
    "Pipeline completo e treinamento"
   ],
   "metadata": {
    "collapsed": false,
    "pycharm": {
     "name": "#%% md\n"
    }
   }
  },
  {
   "cell_type": "code",
   "execution_count": 120,
   "outputs": [
    {
     "name": "stderr",
     "output_type": "stream",
     "text": [
      "03-06-2022 11:18:04 Treinando...\n",
      "03-06-2022 11:18:04 Inferindo valores...\n",
      "03-06-2022 11:18:04 Métricas de avaliação\n",
      "03-06-2022 11:18:04 Accuracy: 0.46226415094339623\n",
      "03-06-2022 11:18:04 Precision: 0.3333333333333333\n",
      "03-06-2022 11:18:04 Recall: 0.29545454545454547\n",
      "03-06-2022 11:18:04 F1: 0.3132530120481928\n"
     ]
    }
   ],
   "source": [
    "pipe = Pipeline(steps = [('full_pipeline', full_pipeline_preprocessing),\n",
    "                         (\"classifier\",DecisionTreeClassifier())\n",
    "                         ]\n",
    "                )\n",
    "\n",
    "# training\n",
    "logger.info(\"Treinando...\")\n",
    "pipe.fit(x_train, y_train)\n",
    "\n",
    "# predict\n",
    "logger.info(\"Inferindo valores...\")\n",
    "predict = pipe.predict(x_val)\n",
    "\n",
    "# Evaluation Metrics\n",
    "logger.info(\"Métricas de avaliação\")\n",
    "fbeta = fbeta_score(y_val, predict, beta=1, zero_division=1)\n",
    "precision = precision_score(y_val, predict, zero_division=1)\n",
    "recall = recall_score(y_val, predict, zero_division=1)\n",
    "acc = accuracy_score(y_val, predict)\n",
    "\n",
    "logger.info(\"Accuracy: {}\".format(acc))\n",
    "logger.info(\"Precision: {}\".format(precision))\n",
    "logger.info(\"Recall: {}\".format(recall))\n",
    "logger.info(\"F1: {}\".format(fbeta))"
   ],
   "metadata": {
    "collapsed": false,
    "pycharm": {
     "name": "#%%\n"
    }
   }
  },
  {
   "cell_type": "code",
   "execution_count": 1,
   "outputs": [
    {
     "ename": "NameError",
     "evalue": "name 'x_train' is not defined",
     "output_type": "error",
     "traceback": [
      "\u001B[0;31m---------------------------------------------------------------------------\u001B[0m",
      "\u001B[0;31mNameError\u001B[0m                                 Traceback (most recent call last)",
      "\u001B[0;32m/var/folders/cc/153gn4_s0jq2qktx17fs871w0000gn/T/ipykernel_46061/3293400426.py\u001B[0m in \u001B[0;36m<module>\u001B[0;34m\u001B[0m\n\u001B[0;32m----> 1\u001B[0;31m \u001B[0mx_train\u001B[0m\u001B[0;34m\u001B[0m\u001B[0;34m\u001B[0m\u001B[0m\n\u001B[0m",
      "\u001B[0;31mNameError\u001B[0m: name 'x_train' is not defined"
     ]
    }
   ],
   "source": [
    "x_train"
   ],
   "metadata": {
    "collapsed": false,
    "pycharm": {
     "name": "#%%\n"
    }
   }
  },
  {
   "cell_type": "markdown",
   "source": [
    "Upload de informações para o *wandb*"
   ],
   "metadata": {
    "collapsed": false,
    "pycharm": {
     "name": "#%% md\n"
    }
   }
  },
  {
   "cell_type": "code",
   "execution_count": 121,
   "outputs": [],
   "source": [
    "run.summary[\"Acc\"] = acc\n",
    "run.summary[\"Precision\"] = precision\n",
    "run.summary[\"Recall\"] = recall\n",
    "run.summary[\"F1\"] = fbeta"
   ],
   "metadata": {
    "collapsed": false,
    "pycharm": {
     "name": "#%%\n"
    }
   }
  },
  {
   "cell_type": "markdown",
   "source": [
    "Avalia possíveis vieses no modelo"
   ],
   "metadata": {
    "collapsed": false,
    "pycharm": {
     "name": "#%% md\n"
    }
   }
  },
  {
   "cell_type": "code",
   "execution_count": null,
   "outputs": [],
   "source": [
    "# predict bias\n",
    "logger.info(\"Inferindo viés...\")\n",
    "predict_bias = pipe.predict(x_train)\n",
    "\n",
    "# Evaluation Metrics\n",
    "logger.info(\"Métricas de avaliação de viés\")\n",
    "fbeta = fbeta_score(y_train, predict_bias, beta=1, zero_division=1)\n",
    "precision = precision_score(y_train, predict_bias, zero_division=1)\n",
    "recall = recall_score(y_train, predict_bias, zero_division=1)\n",
    "acc = accuracy_score(y_train, predict_bias)\n",
    "\n",
    "logger.info(\"Bias Accuracy: {}\".format(acc))\n",
    "logger.info(\"Bias Precision: {}\".format(precision))\n",
    "logger.info(\"Bias Recall: {}\".format(recall))\n",
    "logger.info(\"Bias F1: {}\".format(fbeta))"
   ],
   "metadata": {
    "collapsed": false,
    "pycharm": {
     "name": "#%%\n"
    }
   }
  },
  {
   "cell_type": "markdown",
   "source": [
    "Observa-se que, mesmo para os dados de treinamento, ainda há um certo grau de erro em reconhecer quem precisa de reanimação ou não porém, considerando um IC de 95%, pode-se dizer que o modelo é aceitável."
   ],
   "metadata": {
    "collapsed": false,
    "pycharm": {
     "name": "#%% md\n"
    }
   }
  },
  {
   "cell_type": "markdown",
   "source": [
    "Comparação de métricas"
   ],
   "metadata": {
    "collapsed": false,
    "pycharm": {
     "name": "#%% md\n"
    }
   }
  },
  {
   "cell_type": "code",
   "execution_count": 78,
   "outputs": [
    {
     "name": "stdout",
     "output_type": "stream",
     "text": [
      "              precision    recall  f1-score   support\n",
      "\n",
      "           0       0.54      0.56      0.55        62\n",
      "           1       0.34      0.32      0.33        44\n",
      "\n",
      "    accuracy                           0.46       106\n",
      "   macro avg       0.44      0.44      0.44       106\n",
      "weighted avg       0.46      0.46      0.46       106\n",
      "\n"
     ]
    }
   ],
   "source": [
    "print(classification_report(y_val,predict))"
   ],
   "metadata": {
    "collapsed": false,
    "pycharm": {
     "name": "#%%\n"
    }
   }
  },
  {
   "cell_type": "markdown",
   "source": [
    "Matriz de confusão"
   ],
   "metadata": {
    "collapsed": false,
    "pycharm": {
     "name": "#%% md\n"
    }
   }
  },
  {
   "cell_type": "code",
   "execution_count": 122,
   "outputs": [
    {
     "data": {
      "text/plain": "<Figure size 504x288 with 2 Axes>",
      "image/png": "[encoded data removed]"
     },
     "metadata": {
      "needs_background": "light"
     },
     "output_type": "display_data"
    }
   ],
   "source": [
    "fig_confusion_matrix, ax = plt.subplots(1,1,figsize=(7,4))\n",
    "ConfusionMatrixDisplay(confusion_matrix(predict,y_val,labels=[1,0]),\n",
    "                       display_labels=[\"Reanimar\",\"Não reanimar\"]).plot(values_format=\".0f\",ax=ax)\n",
    "\n",
    "ax.set_xlabel(\"True Label\")\n",
    "ax.set_ylabel(\"Predicted Label\")\n",
    "plt.show()"
   ],
   "metadata": {
    "collapsed": false,
    "pycharm": {
     "name": "#%%\n"
    }
   }
  },
  {
   "cell_type": "code",
   "execution_count": 80,
   "outputs": [],
   "source": [
    "df = pd.DataFrame(y_val, columns=['TrueValue'])"
   ],
   "metadata": {
    "collapsed": false,
    "pycharm": {
     "name": "#%%\n"
    }
   }
  },
  {
   "cell_type": "code",
   "execution_count": 81,
   "outputs": [
    {
     "data": {
      "text/plain": "TrueValue    44\ndtype: int64"
     },
     "execution_count": 81,
     "metadata": {},
     "output_type": "execute_result"
    }
   ],
   "source": [
    "df[df['TrueValue'] == 1].count()"
   ],
   "metadata": {
    "collapsed": false,
    "pycharm": {
     "name": "#%%\n"
    }
   }
  },
  {
   "cell_type": "markdown",
   "source": [
    "Gráficos do treinamento"
   ],
   "metadata": {
    "collapsed": false,
    "pycharm": {
     "name": "#%% md\n"
    }
   }
  },
  {
   "cell_type": "code",
   "execution_count": 82,
   "outputs": [
    {
     "data": {
      "text/plain": "['fumo_n_fumo',\n 'fumo_s_fumo',\n 'alcool_n_alcool',\n 'alcool_s_alcool',\n 'psicoativas_n_psico',\n 'psicoativas_s_psico',\n 'tpp_n_tpp',\n 'tpp_s_tpp',\n 'dpp_n_dpp',\n 'dpp_s_dpp',\n 'oligoamnio_n_oligo',\n 'oligoamnio_s_oligo',\n 'sifilis_n_sifilis',\n 'sifilis_s_sifilis',\n 'hiv_n_hiv',\n 'hiv_s_hiv',\n 'covid_mae_n_covid',\n 'covid_mae_s_covid',\n 'dheg_n_dheg',\n 'dheg_s_dheg',\n 'dm_n_dm',\n 'dm_s_dm',\n 'sexo_Masculino',\n 'idade_materna']"
     },
     "execution_count": 82,
     "metadata": {},
     "output_type": "execute_result"
    }
   ],
   "source": [
    "cat_names = pipe.named_steps['full_pipeline'].get_params()[\"cat_pipeline\"][2].get_feature_names_out().tolist()\n",
    "num_names = pipe.named_steps['full_pipeline'].get_params()[\"num_pipeline\"][1].get_feature_names_out()\n",
    "all_names = cat_names + num_names\n",
    "all_names"
   ],
   "metadata": {
    "collapsed": false,
    "pycharm": {
     "name": "#%%\n"
    }
   }
  },
  {
   "cell_type": "code",
   "execution_count": 83,
   "outputs": [
    {
     "name": "stderr",
     "output_type": "stream",
     "text": [
      "\u001B[34m\u001B[1mwandb\u001B[0m: \n",
      "\u001B[34m\u001B[1mwandb\u001B[0m: Plotting DT.\n",
      "\u001B[34m\u001B[1mwandb\u001B[0m: Logged feature importances.\n",
      "\u001B[34m\u001B[1mwandb\u001B[0m: Logged confusion matrix.\n",
      "\u001B[34m\u001B[1mwandb\u001B[0m: Logged summary metrics.\n",
      "\u001B[34m\u001B[1mwandb\u001B[0m: Logged class proportions.\n",
      "\u001B[34m\u001B[1mwandb\u001B[0m: Logged calibration curve.\n",
      "\u001B[34m\u001B[1mwandb\u001B[0m: \u001B[33mWARNING\u001B[0m wandb.plots.* functions are deprecated and will be removed in a future release. Please use wandb.plot.* instead.\n",
      "\u001B[34m\u001B[1mwandb\u001B[0m: Logged roc curve.\n",
      "\u001B[34m\u001B[1mwandb\u001B[0m: Logged precision-recall curve.\n"
     ]
    }
   ],
   "source": [
    "# Visualize all classifier plots\n",
    "# For a complete documentation please see: https://docs.wandb.ai/guides/integrations/scikit\n",
    "wandb.sklearn.plot_classifier(pipe.get_params()[\"classifier\"],\n",
    "                              full_pipeline_preprocessing.transform(x_train),\n",
    "                              full_pipeline_preprocessing.transform(x_val),\n",
    "                              y_train,\n",
    "                              y_val,\n",
    "                              predict,\n",
    "                              pipe.predict_proba(x_val),\n",
    "                              [0,1],\n",
    "                              model_name='DT', feature_names=all_names)"
   ],
   "metadata": {
    "collapsed": false,
    "pycharm": {
     "name": "#%%\n"
    }
   }
  },
  {
   "cell_type": "code",
   "execution_count": 84,
   "outputs": [
    {
     "data": {
      "text/plain": "<IPython.core.display.HTML object>",
      "text/html": "Waiting for W&B process to finish... <strong style=\"color:green\">(success).</strong>"
     },
     "metadata": {},
     "output_type": "display_data"
    },
    {
     "data": {
      "text/plain": "VBox(children=(Label(value='0.010 MB of 0.010 MB uploaded (0.000 MB deduped)\\r'), FloatProgress(value=1.0, max…",
      "application/vnd.jupyter.widget-view+json": {
       "version_major": 2,
       "version_minor": 0,
       "model_id": "5fafeed2d9184443b0f37fd09cddc949"
      }
     },
     "metadata": {},
     "output_type": "display_data"
    },
    {
     "data": {
      "text/plain": "<IPython.core.display.HTML object>",
      "text/html": "Synced <strong style=\"color:#cdcd00\">leafy-terrain-108</strong>: <a href=\"https://wandb.ai/ecalasans/mlreanimacao/runs/qd4uxivp\" target=\"_blank\">https://wandb.ai/ecalasans/mlreanimacao/runs/qd4uxivp</a><br/>Synced 5 W&B file(s), 7 media file(s), 7 artifact file(s) and 0 other file(s)"
     },
     "metadata": {},
     "output_type": "display_data"
    },
    {
     "data": {
      "text/plain": "<IPython.core.display.HTML object>",
      "text/html": "Find logs at: <code>./wandb/run-20220603_093737-qd4uxivp/logs</code>"
     },
     "metadata": {},
     "output_type": "display_data"
    }
   ],
   "source": [
    "run.finish()"
   ],
   "metadata": {
    "collapsed": false,
    "pycharm": {
     "name": "#%%\n"
    }
   }
  },
  {
   "cell_type": "markdown",
   "source": [
    "## 6.  Ajuste de Hiperparâmetros"
   ],
   "metadata": {
    "collapsed": false,
    "pycharm": {
     "name": "#%% md\n"
    }
   }
  },
  {
   "cell_type": "markdown",
   "source": [
    "Aqui será explorada a seção **Sweep** do wandb, que disponibiliza vários métodos para o ajuste de hiperparâmetros do modelo."
   ],
   "metadata": {
    "collapsed": false,
    "pycharm": {
     "name": "#%% md\n"
    }
   }
  },
  {
   "cell_type": "code",
   "execution_count": 123,
   "outputs": [],
   "source": [
    "seed = 1618"
   ],
   "metadata": {
    "collapsed": false,
    "pycharm": {
     "name": "#%%\n"
    }
   }
  },
  {
   "cell_type": "markdown",
   "source": [
    "Configurações do *Sweep*"
   ],
   "metadata": {
    "collapsed": false,
    "pycharm": {
     "name": "#%% md\n"
    }
   }
  },
  {
   "cell_type": "code",
   "execution_count": 124,
   "outputs": [
    {
     "name": "stdout",
     "output_type": "stream",
     "text": [
      "Create sweep with ID: za4s0nfc\n",
      "Sweep URL: https://wandb.ai/ecalasans/mlreanimacao/sweeps/za4s0nfc\n"
     ]
    }
   ],
   "source": [
    "sweep_config = {\n",
    "    # try grid or random\n",
    "    \"method\": \"random\",\n",
    "    \"metric\": {\n",
    "        \"name\": \"Accuracy\",\n",
    "        \"goal\": \"maximize\"\n",
    "    },\n",
    "    \"parameters\": {\n",
    "        \"criterion\": {\n",
    "            \"values\": [\"gini\",\"entropy\"]\n",
    "        },\n",
    "        \"splitter\": {\n",
    "            \"values\": [\"random\",\"best\"]\n",
    "        },\n",
    "        \"model\": {\n",
    "            \"values\": [0,1,2]\n",
    "        },\n",
    "        \"random_state\": {\n",
    "            \"values\": [seed]\n",
    "        }\n",
    "    }\n",
    "}\n",
    "\n",
    "sweep_id = wandb.sweep(sweep_config, project=\"mlreanimacao\")"
   ],
   "metadata": {
    "collapsed": false,
    "pycharm": {
     "name": "#%%\n"
    }
   }
  },
  {
   "cell_type": "markdown",
   "source": [
    "Define uma função para ser passada para o **Sweep**"
   ],
   "metadata": {
    "collapsed": false,
    "pycharm": {
     "name": "#%% md\n"
    }
   }
  },
  {
   "cell_type": "code",
   "execution_count": null,
   "outputs": [],
   "source": [
    "#pipe.named_steps['full_pipeline'].get_params()"
   ],
   "metadata": {
    "collapsed": false,
    "pycharm": {
     "name": "#%%\n"
    }
   }
  },
  {
   "cell_type": "code",
   "execution_count": 125,
   "outputs": [],
   "source": [
    "def train():\n",
    "    with wandb.init() as run:\n",
    "\n",
    "        # The full pipeline\n",
    "        pipe = Pipeline(steps = [('full_pipeline', full_pipeline_preprocessing),\n",
    "                                 (\"classifier\",DecisionTreeClassifier())\n",
    "                                 ]\n",
    "                        )\n",
    "\n",
    "        # update the parameters of the pipeline that we would like to tuning\n",
    "        pipe.set_params(**{\"full_pipeline__num_pipeline__num_transformer__model\": run.config.model})\n",
    "        pipe.set_params(**{\"classifier__criterion\": run.config.criterion})\n",
    "        pipe.set_params(**{\"classifier__splitter\": run.config.splitter})\n",
    "        pipe.set_params(**{\"classifier__random_state\": run.config.random_state})\n",
    "\n",
    "        # training\n",
    "        logger.info(\"Training\")\n",
    "        pipe.fit(x_train, y_train)\n",
    "\n",
    "        # predict\n",
    "        logger.info(\"Infering\")\n",
    "        predict = pipe.predict(x_val)\n",
    "\n",
    "        # Evaluation Metrics\n",
    "        logger.info(\"Evaluation metrics\")\n",
    "        fbeta = fbeta_score(y_val, predict, beta=1, zero_division=1)\n",
    "        precision = precision_score(y_val, predict, zero_division=1)\n",
    "        recall = recall_score(y_val, predict, zero_division=1)\n",
    "        acc = accuracy_score(y_val, predict)\n",
    "\n",
    "        logger.info(\"Accuracy: {}\".format(acc))\n",
    "        logger.info(\"Precision: {}\".format(precision))\n",
    "        logger.info(\"Recall: {}\".format(recall))\n",
    "        logger.info(\"F1: {}\".format(fbeta))\n",
    "\n",
    "        run.summary[\"Accuracy\"] = acc\n",
    "        run.summary[\"Precision\"] = precision\n",
    "        run.summary[\"Recall\"] = recall\n",
    "        run.summary[\"F1\"] = fbeta"
   ],
   "metadata": {
    "collapsed": false,
    "pycharm": {
     "name": "#%%\n"
    }
   }
  },
  {
   "cell_type": "code",
   "execution_count": 126,
   "outputs": [
    {
     "name": "stderr",
     "output_type": "stream",
     "text": [
      "\u001B[34m\u001B[1mwandb\u001B[0m: \u001B[33mWARNING\u001B[0m Calling wandb.login() after wandb.init() has no effect.\n",
      "\u001B[34m\u001B[1mwandb\u001B[0m: Agent Starting Run: xo7apfnp with config:\n",
      "\u001B[34m\u001B[1mwandb\u001B[0m: \tcriterion: entropy\n",
      "\u001B[34m\u001B[1mwandb\u001B[0m: \tmodel: 2\n",
      "\u001B[34m\u001B[1mwandb\u001B[0m: \trandom_state: 1618\n",
      "\u001B[34m\u001B[1mwandb\u001B[0m: \tsplitter: best\n",
      "wandb: ERROR Dropped streaming file chunk (see wandb/debug-internal.log)\n",
      "ERROR:root:dropped chunk 404 Client Error: Not Found for url: https://api.wandb.ai/files/ecalasans/mlreanimacao/bmm4rm0m/file_stream\n",
      "NoneType: None\n"
     ]
    },
    {
     "data": {
      "text/plain": "<IPython.core.display.HTML object>",
      "text/html": "wandb version 0.12.17 is available!  To upgrade, please run:\n $ pip install wandb --upgrade"
     },
     "metadata": {},
     "output_type": "display_data"
    },
    {
     "data": {
      "text/plain": "<IPython.core.display.HTML object>",
      "text/html": "Tracking run with wandb version 0.12.15"
     },
     "metadata": {},
     "output_type": "display_data"
    },
    {
     "data": {
      "text/plain": "<IPython.core.display.HTML object>",
      "text/html": "Run data is saved locally in <code>/Users/ericcalasans/Documents/Projetos/ml_proj1/notebooks/wandb/run-20220603_111937-xo7apfnp</code>"
     },
     "metadata": {},
     "output_type": "display_data"
    },
    {
     "data": {
      "text/plain": "<IPython.core.display.HTML object>",
      "text/html": "Syncing run <strong><a href=\"https://wandb.ai/ecalasans/mlreanimacao/runs/xo7apfnp\" target=\"_blank\">denim-sweep-1</a></strong> to <a href=\"https://wandb.ai/ecalasans/mlreanimacao\" target=\"_blank\">Weights & Biases</a> (<a href=\"https://wandb.me/run\" target=\"_blank\">docs</a>)<br/>Sweep page:  <a href=\"https://wandb.ai/ecalasans/mlreanimacao/sweeps/za4s0nfc\" target=\"_blank\">https://wandb.ai/ecalasans/mlreanimacao/sweeps/za4s0nfc</a>"
     },
     "metadata": {},
     "output_type": "display_data"
    },
    {
     "name": "stderr",
     "output_type": "stream",
     "text": [
      "03-06-2022 11:19:46 Training\n",
      "03-06-2022 11:19:46 Infering\n",
      "03-06-2022 11:19:46 Evaluation metrics\n",
      "03-06-2022 11:19:46 Accuracy: 0.4716981132075472\n",
      "03-06-2022 11:19:46 Precision: 0.34210526315789475\n",
      "03-06-2022 11:19:46 Recall: 0.29545454545454547\n",
      "03-06-2022 11:19:46 F1: 0.3170731707317074\n"
     ]
    },
    {
     "data": {
      "text/plain": "<IPython.core.display.HTML object>",
      "text/html": "Waiting for W&B process to finish... <strong style=\"color:green\">(success).</strong>"
     },
     "metadata": {},
     "output_type": "display_data"
    },
    {
     "data": {
      "text/plain": "VBox(children=(Label(value='0.000 MB of 0.000 MB uploaded (0.000 MB deduped)\\r'), FloatProgress(value=1.0, max…",
      "application/vnd.jupyter.widget-view+json": {
       "version_major": 2,
       "version_minor": 0,
       "model_id": "dd0349a54fc24d38889a8973d90f897b"
      }
     },
     "metadata": {},
     "output_type": "display_data"
    },
    {
     "name": "stderr",
     "output_type": "stream",
     "text": [
      "wandb: ERROR Dropped streaming file chunk (see wandb/debug-internal.log)\n",
      "ERROR:root:dropped chunk 404 Client Error: Not Found for url: https://api.wandb.ai/files/ecalasans/mlreanimacao/bmm4rm0m/file_stream\n",
      "NoneType: None\n"
     ]
    },
    {
     "data": {
      "text/plain": "<IPython.core.display.HTML object>",
      "text/html": "<style>\n    table.wandb td:nth-child(1) { padding: 0 10px; text-align: right }\n    .wandb-row { display: flex; flex-direction: row; flex-wrap: wrap; width: 100% }\n    .wandb-col { display: flex; flex-direction: column; flex-basis: 100%; flex: 1; padding: 10px; }\n    </style>\n<div class=\"wandb-row\"><div class=\"wandb-col\"><h3>Run summary:</h3><br/><table class=\"wandb\"><tr><td>Accuracy</td><td>0.4717</td></tr><tr><td>F1</td><td>0.31707</td></tr><tr><td>Precision</td><td>0.34211</td></tr><tr><td>Recall</td><td>0.29545</td></tr></table><br/></div></div>"
     },
     "metadata": {},
     "output_type": "display_data"
    },
    {
     "data": {
      "text/plain": "<IPython.core.display.HTML object>",
      "text/html": "Synced <strong style=\"color:#cdcd00\">denim-sweep-1</strong>: <a href=\"https://wandb.ai/ecalasans/mlreanimacao/runs/xo7apfnp\" target=\"_blank\">https://wandb.ai/ecalasans/mlreanimacao/runs/xo7apfnp</a><br/>Synced 5 W&B file(s), 0 media file(s), 0 artifact file(s) and 0 other file(s)"
     },
     "metadata": {},
     "output_type": "display_data"
    },
    {
     "data": {
      "text/plain": "<IPython.core.display.HTML object>",
      "text/html": "Find logs at: <code>./wandb/run-20220603_111937-xo7apfnp/logs</code>"
     },
     "metadata": {},
     "output_type": "display_data"
    },
    {
     "name": "stderr",
     "output_type": "stream",
     "text": [
      "\u001B[34m\u001B[1mwandb\u001B[0m: Agent Starting Run: 85ckxnee with config:\n",
      "\u001B[34m\u001B[1mwandb\u001B[0m: \tcriterion: gini\n",
      "\u001B[34m\u001B[1mwandb\u001B[0m: \tmodel: 1\n",
      "\u001B[34m\u001B[1mwandb\u001B[0m: \trandom_state: 1618\n",
      "\u001B[34m\u001B[1mwandb\u001B[0m: \tsplitter: random\n",
      "wandb: ERROR Dropped streaming file chunk (see wandb/debug-internal.log)\n",
      "ERROR:root:dropped chunk 404 Client Error: Not Found for url: https://api.wandb.ai/files/ecalasans/mlreanimacao/bmm4rm0m/file_stream\n",
      "NoneType: None\n"
     ]
    },
    {
     "data": {
      "text/plain": "<IPython.core.display.HTML object>",
      "text/html": "wandb version 0.12.17 is available!  To upgrade, please run:\n $ pip install wandb --upgrade"
     },
     "metadata": {},
     "output_type": "display_data"
    },
    {
     "data": {
      "text/plain": "<IPython.core.display.HTML object>",
      "text/html": "Tracking run with wandb version 0.12.15"
     },
     "metadata": {},
     "output_type": "display_data"
    },
    {
     "data": {
      "text/plain": "<IPython.core.display.HTML object>",
      "text/html": "Run data is saved locally in <code>/Users/ericcalasans/Documents/Projetos/ml_proj1/notebooks/wandb/run-20220603_111958-85ckxnee</code>"
     },
     "metadata": {},
     "output_type": "display_data"
    },
    {
     "data": {
      "text/plain": "<IPython.core.display.HTML object>",
      "text/html": "Syncing run <strong><a href=\"https://wandb.ai/ecalasans/mlreanimacao/runs/85ckxnee\" target=\"_blank\">hopeful-sweep-2</a></strong> to <a href=\"https://wandb.ai/ecalasans/mlreanimacao\" target=\"_blank\">Weights & Biases</a> (<a href=\"https://wandb.me/run\" target=\"_blank\">docs</a>)<br/>Sweep page:  <a href=\"https://wandb.ai/ecalasans/mlreanimacao/sweeps/za4s0nfc\" target=\"_blank\">https://wandb.ai/ecalasans/mlreanimacao/sweeps/za4s0nfc</a>"
     },
     "metadata": {},
     "output_type": "display_data"
    },
    {
     "name": "stderr",
     "output_type": "stream",
     "text": [
      "03-06-2022 11:20:06 Training\n",
      "03-06-2022 11:20:06 Infering\n",
      "03-06-2022 11:20:07 Evaluation metrics\n",
      "03-06-2022 11:20:07 Accuracy: 0.5660377358490566\n",
      "03-06-2022 11:20:07 Precision: 0.475\n",
      "03-06-2022 11:20:07 Recall: 0.4318181818181818\n",
      "03-06-2022 11:20:07 F1: 0.4523809523809524\n"
     ]
    },
    {
     "data": {
      "text/plain": "<IPython.core.display.HTML object>",
      "text/html": "Waiting for W&B process to finish... <strong style=\"color:green\">(success).</strong>"
     },
     "metadata": {},
     "output_type": "display_data"
    },
    {
     "data": {
      "text/plain": "VBox(children=(Label(value='0.000 MB of 0.000 MB uploaded (0.000 MB deduped)\\r'), FloatProgress(value=1.0, max…",
      "application/vnd.jupyter.widget-view+json": {
       "version_major": 2,
       "version_minor": 0,
       "model_id": "c632e6137d0f4d92b942b57d7960cbfa"
      }
     },
     "metadata": {},
     "output_type": "display_data"
    },
    {
     "data": {
      "text/plain": "<IPython.core.display.HTML object>",
      "text/html": "<style>\n    table.wandb td:nth-child(1) { padding: 0 10px; text-align: right }\n    .wandb-row { display: flex; flex-direction: row; flex-wrap: wrap; width: 100% }\n    .wandb-col { display: flex; flex-direction: column; flex-basis: 100%; flex: 1; padding: 10px; }\n    </style>\n<div class=\"wandb-row\"><div class=\"wandb-col\"><h3>Run summary:</h3><br/><table class=\"wandb\"><tr><td>Accuracy</td><td>0.56604</td></tr><tr><td>F1</td><td>0.45238</td></tr><tr><td>Precision</td><td>0.475</td></tr><tr><td>Recall</td><td>0.43182</td></tr></table><br/></div></div>"
     },
     "metadata": {},
     "output_type": "display_data"
    },
    {
     "data": {
      "text/plain": "<IPython.core.display.HTML object>",
      "text/html": "Synced <strong style=\"color:#cdcd00\">hopeful-sweep-2</strong>: <a href=\"https://wandb.ai/ecalasans/mlreanimacao/runs/85ckxnee\" target=\"_blank\">https://wandb.ai/ecalasans/mlreanimacao/runs/85ckxnee</a><br/>Synced 5 W&B file(s), 0 media file(s), 0 artifact file(s) and 0 other file(s)"
     },
     "metadata": {},
     "output_type": "display_data"
    },
    {
     "data": {
      "text/plain": "<IPython.core.display.HTML object>",
      "text/html": "Find logs at: <code>./wandb/run-20220603_111958-85ckxnee/logs</code>"
     },
     "metadata": {},
     "output_type": "display_data"
    },
    {
     "name": "stderr",
     "output_type": "stream",
     "text": [
      "\u001B[34m\u001B[1mwandb\u001B[0m: Sweep Agent: Waiting for job.\n",
      "\u001B[34m\u001B[1mwandb\u001B[0m: Job received.\n",
      "\u001B[34m\u001B[1mwandb\u001B[0m: Agent Starting Run: q4ozrrk4 with config:\n",
      "\u001B[34m\u001B[1mwandb\u001B[0m: \tcriterion: gini\n",
      "\u001B[34m\u001B[1mwandb\u001B[0m: \tmodel: 2\n",
      "\u001B[34m\u001B[1mwandb\u001B[0m: \trandom_state: 1618\n",
      "\u001B[34m\u001B[1mwandb\u001B[0m: \tsplitter: random\n",
      "wandb: ERROR Dropped streaming file chunk (see wandb/debug-internal.log)\n",
      "ERROR:root:dropped chunk 404 Client Error: Not Found for url: https://api.wandb.ai/files/ecalasans/mlreanimacao/bmm4rm0m/file_stream\n",
      "NoneType: None\n"
     ]
    },
    {
     "data": {
      "text/plain": "<IPython.core.display.HTML object>",
      "text/html": "wandb version 0.12.17 is available!  To upgrade, please run:\n $ pip install wandb --upgrade"
     },
     "metadata": {},
     "output_type": "display_data"
    },
    {
     "data": {
      "text/plain": "<IPython.core.display.HTML object>",
      "text/html": "Tracking run with wandb version 0.12.15"
     },
     "metadata": {},
     "output_type": "display_data"
    },
    {
     "data": {
      "text/plain": "<IPython.core.display.HTML object>",
      "text/html": "Run data is saved locally in <code>/Users/ericcalasans/Documents/Projetos/ml_proj1/notebooks/wandb/run-20220603_112024-q4ozrrk4</code>"
     },
     "metadata": {},
     "output_type": "display_data"
    },
    {
     "data": {
      "text/plain": "<IPython.core.display.HTML object>",
      "text/html": "Syncing run <strong><a href=\"https://wandb.ai/ecalasans/mlreanimacao/runs/q4ozrrk4\" target=\"_blank\">light-sweep-3</a></strong> to <a href=\"https://wandb.ai/ecalasans/mlreanimacao\" target=\"_blank\">Weights & Biases</a> (<a href=\"https://wandb.me/run\" target=\"_blank\">docs</a>)<br/>Sweep page:  <a href=\"https://wandb.ai/ecalasans/mlreanimacao/sweeps/za4s0nfc\" target=\"_blank\">https://wandb.ai/ecalasans/mlreanimacao/sweeps/za4s0nfc</a>"
     },
     "metadata": {},
     "output_type": "display_data"
    },
    {
     "name": "stderr",
     "output_type": "stream",
     "text": [
      "03-06-2022 11:20:33 Training\n",
      "03-06-2022 11:20:33 Infering\n",
      "03-06-2022 11:20:33 Evaluation metrics\n",
      "03-06-2022 11:20:33 Accuracy: 0.5660377358490566\n",
      "03-06-2022 11:20:33 Precision: 0.475\n",
      "03-06-2022 11:20:33 Recall: 0.4318181818181818\n",
      "03-06-2022 11:20:33 F1: 0.4523809523809524\n"
     ]
    },
    {
     "data": {
      "text/plain": "<IPython.core.display.HTML object>",
      "text/html": "Waiting for W&B process to finish... <strong style=\"color:green\">(success).</strong>"
     },
     "metadata": {},
     "output_type": "display_data"
    },
    {
     "data": {
      "text/plain": "VBox(children=(Label(value='0.000 MB of 0.000 MB uploaded (0.000 MB deduped)\\r'), FloatProgress(value=1.0, max…",
      "application/vnd.jupyter.widget-view+json": {
       "version_major": 2,
       "version_minor": 0,
       "model_id": "fa38bbfc6e0f495bbcd55b0c18d53441"
      }
     },
     "metadata": {},
     "output_type": "display_data"
    },
    {
     "data": {
      "text/plain": "<IPython.core.display.HTML object>",
      "text/html": "<style>\n    table.wandb td:nth-child(1) { padding: 0 10px; text-align: right }\n    .wandb-row { display: flex; flex-direction: row; flex-wrap: wrap; width: 100% }\n    .wandb-col { display: flex; flex-direction: column; flex-basis: 100%; flex: 1; padding: 10px; }\n    </style>\n<div class=\"wandb-row\"><div class=\"wandb-col\"><h3>Run summary:</h3><br/><table class=\"wandb\"><tr><td>Accuracy</td><td>0.56604</td></tr><tr><td>F1</td><td>0.45238</td></tr><tr><td>Precision</td><td>0.475</td></tr><tr><td>Recall</td><td>0.43182</td></tr></table><br/></div></div>"
     },
     "metadata": {},
     "output_type": "display_data"
    },
    {
     "data": {
      "text/plain": "<IPython.core.display.HTML object>",
      "text/html": "Synced <strong style=\"color:#cdcd00\">light-sweep-3</strong>: <a href=\"https://wandb.ai/ecalasans/mlreanimacao/runs/q4ozrrk4\" target=\"_blank\">https://wandb.ai/ecalasans/mlreanimacao/runs/q4ozrrk4</a><br/>Synced 5 W&B file(s), 0 media file(s), 0 artifact file(s) and 0 other file(s)"
     },
     "metadata": {},
     "output_type": "display_data"
    },
    {
     "data": {
      "text/plain": "<IPython.core.display.HTML object>",
      "text/html": "Find logs at: <code>./wandb/run-20220603_112024-q4ozrrk4/logs</code>"
     },
     "metadata": {},
     "output_type": "display_data"
    },
    {
     "name": "stderr",
     "output_type": "stream",
     "text": [
      "\u001B[34m\u001B[1mwandb\u001B[0m: Sweep Agent: Waiting for job.\n",
      "\u001B[34m\u001B[1mwandb\u001B[0m: Job received.\n",
      "\u001B[34m\u001B[1mwandb\u001B[0m: Agent Starting Run: z7axzan5 with config:\n",
      "\u001B[34m\u001B[1mwandb\u001B[0m: \tcriterion: entropy\n",
      "\u001B[34m\u001B[1mwandb\u001B[0m: \tmodel: 0\n",
      "\u001B[34m\u001B[1mwandb\u001B[0m: \trandom_state: 1618\n",
      "\u001B[34m\u001B[1mwandb\u001B[0m: \tsplitter: random\n"
     ]
    },
    {
     "data": {
      "text/plain": "<IPython.core.display.HTML object>",
      "text/html": "wandb version 0.12.17 is available!  To upgrade, please run:\n $ pip install wandb --upgrade"
     },
     "metadata": {},
     "output_type": "display_data"
    },
    {
     "data": {
      "text/plain": "<IPython.core.display.HTML object>",
      "text/html": "Tracking run with wandb version 0.12.15"
     },
     "metadata": {},
     "output_type": "display_data"
    },
    {
     "data": {
      "text/plain": "<IPython.core.display.HTML object>",
      "text/html": "Run data is saved locally in <code>/Users/ericcalasans/Documents/Projetos/ml_proj1/notebooks/wandb/run-20220603_112051-z7axzan5</code>"
     },
     "metadata": {},
     "output_type": "display_data"
    },
    {
     "data": {
      "text/plain": "<IPython.core.display.HTML object>",
      "text/html": "Syncing run <strong><a href=\"https://wandb.ai/ecalasans/mlreanimacao/runs/z7axzan5\" target=\"_blank\">fine-sweep-4</a></strong> to <a href=\"https://wandb.ai/ecalasans/mlreanimacao\" target=\"_blank\">Weights & Biases</a> (<a href=\"https://wandb.me/run\" target=\"_blank\">docs</a>)<br/>Sweep page:  <a href=\"https://wandb.ai/ecalasans/mlreanimacao/sweeps/za4s0nfc\" target=\"_blank\">https://wandb.ai/ecalasans/mlreanimacao/sweeps/za4s0nfc</a>"
     },
     "metadata": {},
     "output_type": "display_data"
    },
    {
     "name": "stderr",
     "output_type": "stream",
     "text": [
      "03-06-2022 11:20:59 Training\n",
      "03-06-2022 11:20:59 Infering\n",
      "03-06-2022 11:20:59 Evaluation metrics\n",
      "03-06-2022 11:20:59 Accuracy: 0.5849056603773585\n",
      "03-06-2022 11:20:59 Precision: 0.5\n",
      "03-06-2022 11:20:59 Recall: 0.4090909090909091\n",
      "03-06-2022 11:20:59 F1: 0.45\n"
     ]
    },
    {
     "data": {
      "text/plain": "<IPython.core.display.HTML object>",
      "text/html": "Waiting for W&B process to finish... <strong style=\"color:green\">(success).</strong>"
     },
     "metadata": {},
     "output_type": "display_data"
    },
    {
     "data": {
      "text/plain": "VBox(children=(Label(value='0.000 MB of 0.000 MB uploaded (0.000 MB deduped)\\r'), FloatProgress(value=1.0, max…",
      "application/vnd.jupyter.widget-view+json": {
       "version_major": 2,
       "version_minor": 0,
       "model_id": "b4eaec011dc2489bb62bc33d4a24a399"
      }
     },
     "metadata": {},
     "output_type": "display_data"
    },
    {
     "name": "stderr",
     "output_type": "stream",
     "text": [
      "wandb: ERROR Dropped streaming file chunk (see wandb/debug-internal.log)\n",
      "ERROR:root:dropped chunk 404 Client Error: Not Found for url: https://api.wandb.ai/files/ecalasans/mlreanimacao/bmm4rm0m/file_stream\n",
      "NoneType: None\n"
     ]
    },
    {
     "data": {
      "text/plain": "<IPython.core.display.HTML object>",
      "text/html": "<style>\n    table.wandb td:nth-child(1) { padding: 0 10px; text-align: right }\n    .wandb-row { display: flex; flex-direction: row; flex-wrap: wrap; width: 100% }\n    .wandb-col { display: flex; flex-direction: column; flex-basis: 100%; flex: 1; padding: 10px; }\n    </style>\n<div class=\"wandb-row\"><div class=\"wandb-col\"><h3>Run summary:</h3><br/><table class=\"wandb\"><tr><td>Accuracy</td><td>0.58491</td></tr><tr><td>F1</td><td>0.45</td></tr><tr><td>Precision</td><td>0.5</td></tr><tr><td>Recall</td><td>0.40909</td></tr></table><br/></div></div>"
     },
     "metadata": {},
     "output_type": "display_data"
    },
    {
     "data": {
      "text/plain": "<IPython.core.display.HTML object>",
      "text/html": "Synced <strong style=\"color:#cdcd00\">fine-sweep-4</strong>: <a href=\"https://wandb.ai/ecalasans/mlreanimacao/runs/z7axzan5\" target=\"_blank\">https://wandb.ai/ecalasans/mlreanimacao/runs/z7axzan5</a><br/>Synced 5 W&B file(s), 0 media file(s), 0 artifact file(s) and 0 other file(s)"
     },
     "metadata": {},
     "output_type": "display_data"
    },
    {
     "data": {
      "text/plain": "<IPython.core.display.HTML object>",
      "text/html": "Find logs at: <code>./wandb/run-20220603_112051-z7axzan5/logs</code>"
     },
     "metadata": {},
     "output_type": "display_data"
    },
    {
     "name": "stderr",
     "output_type": "stream",
     "text": [
      "\u001B[34m\u001B[1mwandb\u001B[0m: Sweep Agent: Waiting for job.\n",
      "\u001B[34m\u001B[1mwandb\u001B[0m: Job received.\n",
      "\u001B[34m\u001B[1mwandb\u001B[0m: Agent Starting Run: zzthg1cn with config:\n",
      "\u001B[34m\u001B[1mwandb\u001B[0m: \tcriterion: gini\n",
      "\u001B[34m\u001B[1mwandb\u001B[0m: \tmodel: 2\n",
      "\u001B[34m\u001B[1mwandb\u001B[0m: \trandom_state: 1618\n",
      "\u001B[34m\u001B[1mwandb\u001B[0m: \tsplitter: random\n"
     ]
    },
    {
     "data": {
      "text/plain": "<IPython.core.display.HTML object>",
      "text/html": "wandb version 0.12.17 is available!  To upgrade, please run:\n $ pip install wandb --upgrade"
     },
     "metadata": {},
     "output_type": "display_data"
    },
    {
     "data": {
      "text/plain": "<IPython.core.display.HTML object>",
      "text/html": "Tracking run with wandb version 0.12.15"
     },
     "metadata": {},
     "output_type": "display_data"
    },
    {
     "data": {
      "text/plain": "<IPython.core.display.HTML object>",
      "text/html": "Run data is saved locally in <code>/Users/ericcalasans/Documents/Projetos/ml_proj1/notebooks/wandb/run-20220603_112118-zzthg1cn</code>"
     },
     "metadata": {},
     "output_type": "display_data"
    },
    {
     "data": {
      "text/plain": "<IPython.core.display.HTML object>",
      "text/html": "Syncing run <strong><a href=\"https://wandb.ai/ecalasans/mlreanimacao/runs/zzthg1cn\" target=\"_blank\">volcanic-sweep-5</a></strong> to <a href=\"https://wandb.ai/ecalasans/mlreanimacao\" target=\"_blank\">Weights & Biases</a> (<a href=\"https://wandb.me/run\" target=\"_blank\">docs</a>)<br/>Sweep page:  <a href=\"https://wandb.ai/ecalasans/mlreanimacao/sweeps/za4s0nfc\" target=\"_blank\">https://wandb.ai/ecalasans/mlreanimacao/sweeps/za4s0nfc</a>"
     },
     "metadata": {},
     "output_type": "display_data"
    },
    {
     "name": "stderr",
     "output_type": "stream",
     "text": [
      "03-06-2022 11:21:26 Training\n",
      "03-06-2022 11:21:26 Infering\n",
      "03-06-2022 11:21:26 Evaluation metrics\n",
      "03-06-2022 11:21:26 Accuracy: 0.5660377358490566\n",
      "03-06-2022 11:21:26 Precision: 0.475\n",
      "03-06-2022 11:21:26 Recall: 0.4318181818181818\n",
      "03-06-2022 11:21:26 F1: 0.4523809523809524\n"
     ]
    },
    {
     "data": {
      "text/plain": "<IPython.core.display.HTML object>",
      "text/html": "Waiting for W&B process to finish... <strong style=\"color:green\">(success).</strong>"
     },
     "metadata": {},
     "output_type": "display_data"
    },
    {
     "data": {
      "text/plain": "VBox(children=(Label(value='0.000 MB of 0.000 MB uploaded (0.000 MB deduped)\\r'), FloatProgress(value=1.0, max…",
      "application/vnd.jupyter.widget-view+json": {
       "version_major": 2,
       "version_minor": 0,
       "model_id": "f84a7f67bc164fafb1d76c04749702ca"
      }
     },
     "metadata": {},
     "output_type": "display_data"
    },
    {
     "name": "stderr",
     "output_type": "stream",
     "text": [
      "wandb: ERROR Dropped streaming file chunk (see wandb/debug-internal.log)\n",
      "ERROR:root:dropped chunk 404 Client Error: Not Found for url: https://api.wandb.ai/files/ecalasans/mlreanimacao/bmm4rm0m/file_stream\n",
      "NoneType: None\n"
     ]
    },
    {
     "data": {
      "text/plain": "<IPython.core.display.HTML object>",
      "text/html": "<style>\n    table.wandb td:nth-child(1) { padding: 0 10px; text-align: right }\n    .wandb-row { display: flex; flex-direction: row; flex-wrap: wrap; width: 100% }\n    .wandb-col { display: flex; flex-direction: column; flex-basis: 100%; flex: 1; padding: 10px; }\n    </style>\n<div class=\"wandb-row\"><div class=\"wandb-col\"><h3>Run summary:</h3><br/><table class=\"wandb\"><tr><td>Accuracy</td><td>0.56604</td></tr><tr><td>F1</td><td>0.45238</td></tr><tr><td>Precision</td><td>0.475</td></tr><tr><td>Recall</td><td>0.43182</td></tr></table><br/></div></div>"
     },
     "metadata": {},
     "output_type": "display_data"
    },
    {
     "data": {
      "text/plain": "<IPython.core.display.HTML object>",
      "text/html": "Synced <strong style=\"color:#cdcd00\">volcanic-sweep-5</strong>: <a href=\"https://wandb.ai/ecalasans/mlreanimacao/runs/zzthg1cn\" target=\"_blank\">https://wandb.ai/ecalasans/mlreanimacao/runs/zzthg1cn</a><br/>Synced 5 W&B file(s), 0 media file(s), 0 artifact file(s) and 0 other file(s)"
     },
     "metadata": {},
     "output_type": "display_data"
    },
    {
     "data": {
      "text/plain": "<IPython.core.display.HTML object>",
      "text/html": "Find logs at: <code>./wandb/run-20220603_112118-zzthg1cn/logs</code>"
     },
     "metadata": {},
     "output_type": "display_data"
    },
    {
     "name": "stderr",
     "output_type": "stream",
     "text": [
      "\u001B[34m\u001B[1mwandb\u001B[0m: Agent Starting Run: riohspcv with config:\n",
      "\u001B[34m\u001B[1mwandb\u001B[0m: \tcriterion: gini\n",
      "\u001B[34m\u001B[1mwandb\u001B[0m: \tmodel: 1\n",
      "\u001B[34m\u001B[1mwandb\u001B[0m: \trandom_state: 1618\n",
      "\u001B[34m\u001B[1mwandb\u001B[0m: \tsplitter: best\n"
     ]
    },
    {
     "data": {
      "text/plain": "<IPython.core.display.HTML object>",
      "text/html": "wandb version 0.12.17 is available!  To upgrade, please run:\n $ pip install wandb --upgrade"
     },
     "metadata": {},
     "output_type": "display_data"
    },
    {
     "data": {
      "text/plain": "<IPython.core.display.HTML object>",
      "text/html": "Tracking run with wandb version 0.12.15"
     },
     "metadata": {},
     "output_type": "display_data"
    },
    {
     "data": {
      "text/plain": "<IPython.core.display.HTML object>",
      "text/html": "Run data is saved locally in <code>/Users/ericcalasans/Documents/Projetos/ml_proj1/notebooks/wandb/run-20220603_112135-riohspcv</code>"
     },
     "metadata": {},
     "output_type": "display_data"
    },
    {
     "data": {
      "text/plain": "<IPython.core.display.HTML object>",
      "text/html": "Syncing run <strong><a href=\"https://wandb.ai/ecalasans/mlreanimacao/runs/riohspcv\" target=\"_blank\">misty-sweep-6</a></strong> to <a href=\"https://wandb.ai/ecalasans/mlreanimacao\" target=\"_blank\">Weights & Biases</a> (<a href=\"https://wandb.me/run\" target=\"_blank\">docs</a>)<br/>Sweep page:  <a href=\"https://wandb.ai/ecalasans/mlreanimacao/sweeps/za4s0nfc\" target=\"_blank\">https://wandb.ai/ecalasans/mlreanimacao/sweeps/za4s0nfc</a>"
     },
     "metadata": {},
     "output_type": "display_data"
    },
    {
     "name": "stderr",
     "output_type": "stream",
     "text": [
      "03-06-2022 11:21:43 Training\n",
      "03-06-2022 11:21:43 Infering\n",
      "03-06-2022 11:21:43 Evaluation metrics\n",
      "03-06-2022 11:21:43 Accuracy: 0.4811320754716981\n",
      "03-06-2022 11:21:43 Precision: 0.36585365853658536\n",
      "03-06-2022 11:21:43 Recall: 0.3409090909090909\n",
      "03-06-2022 11:21:43 F1: 0.3529411764705882\n"
     ]
    },
    {
     "data": {
      "text/plain": "<IPython.core.display.HTML object>",
      "text/html": "Waiting for W&B process to finish... <strong style=\"color:green\">(success).</strong>"
     },
     "metadata": {},
     "output_type": "display_data"
    },
    {
     "data": {
      "text/plain": "VBox(children=(Label(value='0.000 MB of 0.000 MB uploaded (0.000 MB deduped)\\r'), FloatProgress(value=1.0, max…",
      "application/vnd.jupyter.widget-view+json": {
       "version_major": 2,
       "version_minor": 0,
       "model_id": "443941125b3e461991469abef83f2dea"
      }
     },
     "metadata": {},
     "output_type": "display_data"
    },
    {
     "data": {
      "text/plain": "<IPython.core.display.HTML object>",
      "text/html": "<style>\n    table.wandb td:nth-child(1) { padding: 0 10px; text-align: right }\n    .wandb-row { display: flex; flex-direction: row; flex-wrap: wrap; width: 100% }\n    .wandb-col { display: flex; flex-direction: column; flex-basis: 100%; flex: 1; padding: 10px; }\n    </style>\n<div class=\"wandb-row\"><div class=\"wandb-col\"><h3>Run summary:</h3><br/><table class=\"wandb\"><tr><td>Accuracy</td><td>0.48113</td></tr><tr><td>F1</td><td>0.35294</td></tr><tr><td>Precision</td><td>0.36585</td></tr><tr><td>Recall</td><td>0.34091</td></tr></table><br/></div></div>"
     },
     "metadata": {},
     "output_type": "display_data"
    },
    {
     "data": {
      "text/plain": "<IPython.core.display.HTML object>",
      "text/html": "Synced <strong style=\"color:#cdcd00\">misty-sweep-6</strong>: <a href=\"https://wandb.ai/ecalasans/mlreanimacao/runs/riohspcv\" target=\"_blank\">https://wandb.ai/ecalasans/mlreanimacao/runs/riohspcv</a><br/>Synced 5 W&B file(s), 0 media file(s), 0 artifact file(s) and 0 other file(s)"
     },
     "metadata": {},
     "output_type": "display_data"
    },
    {
     "data": {
      "text/plain": "<IPython.core.display.HTML object>",
      "text/html": "Find logs at: <code>./wandb/run-20220603_112135-riohspcv/logs</code>"
     },
     "metadata": {},
     "output_type": "display_data"
    }
   ],
   "source": [
    "wandb.agent(sweep_id=sweep_id, function=train, count=6)"
   ],
   "metadata": {
    "collapsed": false,
    "pycharm": {
     "name": "#%%\n"
    }
   }
  },
  {
   "cell_type": "markdown",
   "source": [
    "## 7.  Configuração, Treinamento e Exportação do Melhor Modelo"
   ],
   "metadata": {
    "collapsed": false,
    "pycharm": {
     "name": "#%% md\n"
    }
   }
  },
  {
   "cell_type": "markdown",
   "source": [
    "### 7.1. Configuração"
   ],
   "metadata": {
    "collapsed": false,
    "pycharm": {
     "name": "#%% md\n"
    }
   }
  },
  {
   "cell_type": "markdown",
   "source": [
    "Realizado a avaliação do treinamento, nesta etapa será realizado um novo treinamento do modelo, desta vez com os resultados de configuração obtidos na etapa anterior.  Revisando os dados obtidos tem-se:"
   ],
   "metadata": {
    "collapsed": false,
    "pycharm": {
     "name": "#%% md\n"
    }
   }
  },
  {
   "cell_type": "code",
   "execution_count": 89,
   "outputs": [
    {
     "name": "stderr",
     "output_type": "stream",
     "text": [
      "03-06-2022 10:54:50 Accuracy: 0.46226415094339623\n",
      "03-06-2022 10:54:50 Precision: 0.34146341463414637\n",
      "03-06-2022 10:54:50 Recall: 0.3181818181818182\n",
      "03-06-2022 10:54:50 F1: 0.32941176470588235\n"
     ]
    }
   ],
   "source": [
    "logger.info(\"Accuracy: {}\".format(acc))\n",
    "logger.info(\"Precision: {}\".format(precision))\n",
    "logger.info(\"Recall: {}\".format(recall))\n",
    "logger.info(\"F1: {}\".format(fbeta))"
   ],
   "metadata": {
    "collapsed": false,
    "pycharm": {
     "name": "#%%\n"
    }
   }
  },
  {
   "cell_type": "markdown",
   "source": [
    "Em consulta ao **Sweep** do wandb, duas execuções demonstraram-se mais eficientes em melhorar os índices de acurácia, F1 e *precision*, mantendo o *recall* praticamente inalterado.  Selecionou-se a **heart-sweep-5** por apresentar tempo de execução ligeiramente menor(1s menor que sua concorrente que apresenta os mesmos resultados e as mesmas configurações)."
   ],
   "metadata": {
    "collapsed": false,
    "pycharm": {
     "name": "#%% md\n"
    }
   }
  },
  {
   "cell_type": "markdown",
   "source": [
    "Devido a uma característica da interação entre o wandb e o jupyter se faz necessário o reinício do ambiente para que se desvincule a última execução do wandb realizada na fase de ajuste de hiperparâmetros.  Dessa forma, também se faz necessária a execução de todos os itens deste notebook exceto o **5** e **6**.  Após realizado isto, executa-se o wandb novamente selecionando o projeto e o tipo de trabalho(*job type*)."
   ],
   "metadata": {
    "collapsed": false,
    "pycharm": {
     "name": "#%% md\n"
    }
   }
  },
  {
   "cell_type": "code",
   "execution_count": 127,
   "outputs": [
    {
     "data": {
      "text/plain": "<IPython.core.display.HTML object>",
      "text/html": "Changes to your `wandb` environment variables will be ignored because your `wandb` session has already started. For more information on how to modify your settings with `wandb.init()` arguments, please refer to <a href=\"https://wandb.me/wandb-init\" target=\"_blank\">the W&B docs</a>."
     },
     "metadata": {},
     "output_type": "display_data"
    },
    {
     "name": "stderr",
     "output_type": "stream",
     "text": [
      "\u001B[34m\u001B[1mwandb\u001B[0m: \u001B[33mWARNING\u001B[0m Ignored wandb.init() arg project when running a sweep.\n",
      "wandb: ERROR Dropped streaming file chunk (see wandb/debug-internal.log)\n",
      "ERROR:root:dropped chunk 404 Client Error: Not Found for url: https://api.wandb.ai/files/ecalasans/mlreanimacao/bmm4rm0m/file_stream\n",
      "NoneType: None\n"
     ]
    },
    {
     "data": {
      "text/plain": "<IPython.core.display.HTML object>",
      "text/html": "wandb version 0.12.17 is available!  To upgrade, please run:\n $ pip install wandb --upgrade"
     },
     "metadata": {},
     "output_type": "display_data"
    },
    {
     "data": {
      "text/plain": "<IPython.core.display.HTML object>",
      "text/html": "Tracking run with wandb version 0.12.15"
     },
     "metadata": {},
     "output_type": "display_data"
    },
    {
     "data": {
      "text/plain": "<IPython.core.display.HTML object>",
      "text/html": "Run data is saved locally in <code>/Users/ericcalasans/Documents/Projetos/ml_proj1/notebooks/wandb/run-20220603_112158-riohspcv</code>"
     },
     "metadata": {},
     "output_type": "display_data"
    },
    {
     "data": {
      "text/plain": "<IPython.core.display.HTML object>",
      "text/html": "Syncing run <strong><a href=\"https://wandb.ai/ecalasans/mlreanimacao/runs/riohspcv\" target=\"_blank\">misty-sweep-6</a></strong> to <a href=\"https://wandb.ai/ecalasans/mlreanimacao\" target=\"_blank\">Weights & Biases</a> (<a href=\"https://wandb.me/run\" target=\"_blank\">docs</a>)<br/>Sweep page:  <a href=\"https://wandb.ai/ecalasans/mlreanimacao/sweeps/za4s0nfc\" target=\"_blank\">https://wandb.ai/ecalasans/mlreanimacao/sweeps/za4s0nfc</a>"
     },
     "metadata": {},
     "output_type": "display_data"
    }
   ],
   "source": [
    "run = wandb.init(project='mlreanimacao', job_type='train')"
   ],
   "metadata": {
    "collapsed": false,
    "pycharm": {
     "name": "#%%\n"
    }
   }
  },
  {
   "cell_type": "markdown",
   "source": [
    "### 7.2. Treinamento"
   ],
   "metadata": {
    "collapsed": false,
    "pycharm": {
     "name": "#%% md\n"
    }
   }
  },
  {
   "cell_type": "markdown",
   "source": [
    "Executa-se agora o *pipeline* com os ajustes apontados pela melhor execução no wandb."
   ],
   "metadata": {
    "collapsed": false,
    "pycharm": {
     "name": "#%% md\n"
    }
   }
  },
  {
   "cell_type": "code",
   "execution_count": 129,
   "outputs": [
    {
     "name": "stderr",
     "output_type": "stream",
     "text": [
      "03-06-2022 11:22:45 Training\n",
      "03-06-2022 11:22:45 Infering\n",
      "03-06-2022 11:22:45 Evaluation metrics\n",
      "03-06-2022 11:22:45 Accuracy: 0.5849056603773585\n",
      "03-06-2022 11:22:45 Precision: 0.5\n",
      "03-06-2022 11:22:45 Recall: 0.4090909090909091\n",
      "03-06-2022 11:22:45 F1: 0.45\n"
     ]
    }
   ],
   "source": [
    "# The full pipeline\n",
    "pipe = Pipeline(steps = [('full_pipeline', full_pipeline_preprocessing),\n",
    "                         (\"classifier\",DecisionTreeClassifier())\n",
    "                         ]\n",
    "                )\n",
    "\n",
    "# update the parameters of the pipeline that we would like to tuning\n",
    "pipe.set_params(**{\"full_pipeline__num_pipeline__num_transformer__model\": 2})\n",
    "pipe.set_params(**{\"classifier__criterion\": 'entropy'})\n",
    "pipe.set_params(**{\"classifier__splitter\": 'random'})\n",
    "pipe.set_params(**{\"classifier__random_state\": 1618})\n",
    "\n",
    "# training\n",
    "logger.info(\"Training\")\n",
    "pipe.fit(x_train, y_train)\n",
    "\n",
    "# predict\n",
    "logger.info(\"Infering\")\n",
    "predict = pipe.predict(x_val)\n",
    "\n",
    "# Evaluation Metrics\n",
    "logger.info(\"Evaluation metrics\")\n",
    "fbeta = fbeta_score(y_val, predict, beta=1, zero_division=1)\n",
    "precision = precision_score(y_val, predict, zero_division=1)\n",
    "recall = recall_score(y_val, predict, zero_division=1)\n",
    "acc = accuracy_score(y_val, predict)\n",
    "\n",
    "logger.info(\"Accuracy: {}\".format(acc))\n",
    "logger.info(\"Precision: {}\".format(precision))\n",
    "logger.info(\"Recall: {}\".format(recall))\n",
    "logger.info(\"F1: {}\".format(fbeta))\n",
    "\n",
    "run.summary[\"Accuracy\"] = acc\n",
    "run.summary[\"Precision\"] = precision\n",
    "run.summary[\"Recall\"] = recall\n",
    "run.summary[\"F1\"] = fbeta"
   ],
   "metadata": {
    "collapsed": false,
    "pycharm": {
     "name": "#%%\n"
    }
   }
  },
  {
   "cell_type": "markdown",
   "source": [
    "Geração de gráficos com o modelo otimizado para o wandb"
   ],
   "metadata": {
    "collapsed": false,
    "pycharm": {
     "name": "#%% md\n"
    }
   }
  },
  {
   "cell_type": "code",
   "execution_count": 97,
   "outputs": [
    {
     "data": {
      "text/plain": "['fumo_n_fumo',\n 'fumo_s_fumo',\n 'alcool_n_alcool',\n 'alcool_s_alcool',\n 'psicoativas_n_psico',\n 'psicoativas_s_psico',\n 'tpp_n_tpp',\n 'tpp_s_tpp',\n 'dpp_n_dpp',\n 'dpp_s_dpp',\n 'oligoamnio_n_oligo',\n 'oligoamnio_s_oligo',\n 'sifilis_n_sifilis',\n 'sifilis_s_sifilis',\n 'hiv_n_hiv',\n 'hiv_s_hiv',\n 'covid_mae_n_covid',\n 'covid_mae_s_covid',\n 'dheg_n_dheg',\n 'dheg_s_dheg',\n 'dm_n_dm',\n 'dm_s_dm',\n 'sexo_Masculino',\n 'idade_materna']"
     },
     "execution_count": 97,
     "metadata": {},
     "output_type": "execute_result"
    }
   ],
   "source": [
    "cat_names = pipe.named_steps['full_pipeline'].get_params()[\"cat_pipeline\"][2].get_feature_names_out().tolist()\n",
    "num_names = pipe.named_steps['full_pipeline'].get_params()[\"num_pipeline\"][1].get_feature_names_out()\n",
    "all_names = cat_names + num_names\n",
    "all_names"
   ],
   "metadata": {
    "collapsed": false,
    "pycharm": {
     "name": "#%%\n"
    }
   }
  },
  {
   "cell_type": "code",
   "execution_count": 98,
   "outputs": [
    {
     "name": "stderr",
     "output_type": "stream",
     "text": [
      "\u001B[34m\u001B[1mwandb\u001B[0m: \n",
      "\u001B[34m\u001B[1mwandb\u001B[0m: Plotting DT.\n",
      "\u001B[34m\u001B[1mwandb\u001B[0m: Logged feature importances.\n",
      "\u001B[34m\u001B[1mwandb\u001B[0m: Logged confusion matrix.\n",
      "\u001B[34m\u001B[1mwandb\u001B[0m: Logged summary metrics.\n",
      "\u001B[34m\u001B[1mwandb\u001B[0m: Logged class proportions.\n",
      "\u001B[34m\u001B[1mwandb\u001B[0m: Logged calibration curve.\n",
      "\u001B[34m\u001B[1mwandb\u001B[0m: Logged roc curve.\n",
      "\u001B[34m\u001B[1mwandb\u001B[0m: Logged precision-recall curve.\n"
     ]
    }
   ],
   "source": [
    "wandb.sklearn.plot_classifier(pipe.get_params()[\"classifier\"],\n",
    "                              full_pipeline_preprocessing.transform(x_train),\n",
    "                              full_pipeline_preprocessing.transform(x_val),\n",
    "                              y_train,\n",
    "                              y_val,\n",
    "                              predict,\n",
    "                              pipe.predict_proba(x_val),\n",
    "                              [0,1],\n",
    "                              model_name='DT', feature_names=all_names)"
   ],
   "metadata": {
    "collapsed": false,
    "pycharm": {
     "name": "#%%\n"
    }
   }
  },
  {
   "cell_type": "code",
   "execution_count": 130,
   "outputs": [
    {
     "data": {
      "text/plain": "<Figure size 504x288 with 2 Axes>",
      "image/png": "[encoded data removed]"
     },
     "metadata": {
      "needs_background": "light"
     },
     "output_type": "display_data"
    }
   ],
   "source": [
    "fig_confusion_matrix, ax = plt.subplots(1,1,figsize=(7,4))\n",
    "ConfusionMatrixDisplay(confusion_matrix(predict,y_val,labels=[1,0]),\n",
    "                       display_labels=[\"Reanimar\",\"Não reanimar\"]).plot(values_format=\".0f\",ax=ax)\n",
    "\n",
    "ax.set_xlabel(\"True Label\")\n",
    "ax.set_ylabel(\"Predicted Label\")\n",
    "plt.show()"
   ],
   "metadata": {
    "collapsed": false,
    "pycharm": {
     "name": "#%%\n"
    }
   }
  },
  {
   "cell_type": "markdown",
   "source": [
    "### 7.3. Exportação do Modelo"
   ],
   "metadata": {
    "collapsed": false,
    "pycharm": {
     "name": "#%% md\n"
    }
   }
  },
  {
   "cell_type": "markdown",
   "source": [
    "Variáveis auxiliares"
   ],
   "metadata": {
    "collapsed": false,
    "pycharm": {
     "name": "#%% md\n"
    }
   }
  },
  {
   "cell_type": "code",
   "execution_count": 131,
   "outputs": [],
   "source": [
    "artifact_type = \"inference_artifact\"\n",
    "artifact_encoder = \"target_encoder\"\n",
    "artifact_model = \"model_export\""
   ],
   "metadata": {
    "collapsed": false,
    "pycharm": {
     "name": "#%%\n"
    }
   }
  },
  {
   "cell_type": "markdown",
   "source": [
    "Uso do módulo **joblib** para auxiliar na tarefa de exportação realizando a serialização dos objetos **pipe** e **le**."
   ],
   "metadata": {
    "collapsed": false,
    "pycharm": {
     "name": "#%% md\n"
    }
   }
  },
  {
   "cell_type": "code",
   "execution_count": 132,
   "outputs": [
    {
     "name": "stderr",
     "output_type": "stream",
     "text": [
      "03-06-2022 11:23:15 Salvando artefatos na máquina...\n"
     ]
    },
    {
     "data": {
      "text/plain": "['target_encoder']"
     },
     "execution_count": 132,
     "metadata": {},
     "output_type": "execute_result"
    }
   ],
   "source": [
    "logger.info(\"Salvando artefatos na máquina...\")\n",
    "# Save the model using joblib\n",
    "joblib.dump(pipe, artifact_model)\n",
    "\n",
    "# Save the target encoder using joblib\n",
    "joblib.dump(le, artifact_encoder)"
   ],
   "metadata": {
    "collapsed": false,
    "pycharm": {
     "name": "#%%\n"
    }
   }
  },
  {
   "cell_type": "markdown",
   "source": [
    "Geração do artefato do modelo"
   ],
   "metadata": {
    "collapsed": false,
    "pycharm": {
     "name": "#%% md\n"
    }
   }
  },
  {
   "cell_type": "code",
   "execution_count": 133,
   "outputs": [
    {
     "name": "stderr",
     "output_type": "stream",
     "text": [
      "03-06-2022 11:23:20 Gerando artefato do modelo...\n"
     ]
    },
    {
     "data": {
      "text/plain": "<wandb.sdk.wandb_artifacts.Artifact at 0x7f9047359370>"
     },
     "execution_count": 133,
     "metadata": {},
     "output_type": "execute_result"
    }
   ],
   "source": [
    "artifact = wandb.Artifact(artifact_model,\n",
    "                          type=artifact_type,\n",
    "                          description=\"Pipeline completo de Preprocessamento e Treinamento do Modelo\"\n",
    "                          )\n",
    "\n",
    "logger.info(\"Gerando artefato do modelo...\")\n",
    "artifact.add_file(artifact_model)\n",
    "run.log_artifact(artifact)"
   ],
   "metadata": {
    "collapsed": false,
    "pycharm": {
     "name": "#%%\n"
    }
   }
  },
  {
   "cell_type": "markdown",
   "source": [
    "Geração do artefato do codificador da *target*"
   ],
   "metadata": {
    "collapsed": false,
    "pycharm": {
     "name": "#%% md\n"
    }
   }
  },
  {
   "cell_type": "code",
   "execution_count": 134,
   "outputs": [
    {
     "name": "stderr",
     "output_type": "stream",
     "text": [
      "03-06-2022 11:23:27 Gerando artefato do codificador...\n"
     ]
    },
    {
     "data": {
      "text/plain": "<wandb.sdk.wandb_artifacts.Artifact at 0x7f904702ae20>"
     },
     "execution_count": 134,
     "metadata": {},
     "output_type": "execute_result"
    }
   ],
   "source": [
    "artifact = wandb.Artifact(artifact_encoder,\n",
    "                          type=artifact_type,\n",
    "                          description=\"Codificador da target\"\n",
    "                          )\n",
    "\n",
    "logger.info(\"Gerando artefato do codificador...\")\n",
    "artifact.add_file(artifact_encoder)\n",
    "run.log_artifact(artifact)"
   ],
   "metadata": {
    "collapsed": false,
    "pycharm": {
     "name": "#%%\n"
    }
   }
  },
  {
   "cell_type": "code",
   "execution_count": 135,
   "outputs": [
    {
     "data": {
      "text/plain": "<IPython.core.display.HTML object>",
      "text/html": "Waiting for W&B process to finish... <strong style=\"color:green\">(success).</strong>"
     },
     "metadata": {},
     "output_type": "display_data"
    },
    {
     "data": {
      "text/plain": "VBox(children=(Label(value='0.028 MB of 0.028 MB uploaded (0.000 MB deduped)\\r'), FloatProgress(value=1.0, max…",
      "application/vnd.jupyter.widget-view+json": {
       "version_major": 2,
       "version_minor": 0,
       "model_id": "343e9d30e9b0485a896f4fc1abe28e85"
      }
     },
     "metadata": {},
     "output_type": "display_data"
    },
    {
     "data": {
      "text/plain": "<IPython.core.display.HTML object>",
      "text/html": "<style>\n    table.wandb td:nth-child(1) { padding: 0 10px; text-align: right }\n    .wandb-row { display: flex; flex-direction: row; flex-wrap: wrap; width: 100% }\n    .wandb-col { display: flex; flex-direction: column; flex-basis: 100%; flex: 1; padding: 10px; }\n    </style>\n<div class=\"wandb-row\"><div class=\"wandb-col\"><h3>Run summary:</h3><br/><table class=\"wandb\"><tr><td>Accuracy</td><td>0.58491</td></tr><tr><td>F1</td><td>0.45</td></tr><tr><td>Precision</td><td>0.5</td></tr><tr><td>Recall</td><td>0.40909</td></tr></table><br/></div></div>"
     },
     "metadata": {},
     "output_type": "display_data"
    },
    {
     "data": {
      "text/plain": "<IPython.core.display.HTML object>",
      "text/html": "Synced <strong style=\"color:#cdcd00\">misty-sweep-6</strong>: <a href=\"https://wandb.ai/ecalasans/mlreanimacao/runs/riohspcv\" target=\"_blank\">https://wandb.ai/ecalasans/mlreanimacao/runs/riohspcv</a><br/>Synced 5 W&B file(s), 0 media file(s), 1 artifact file(s) and 0 other file(s)"
     },
     "metadata": {},
     "output_type": "display_data"
    },
    {
     "data": {
      "text/plain": "<IPython.core.display.HTML object>",
      "text/html": "Find logs at: <code>./wandb/run-20220603_112158-riohspcv/logs</code>"
     },
     "metadata": {},
     "output_type": "display_data"
    }
   ],
   "source": [
    "# Finaliza execução no wandb\n",
    "run.finish()"
   ],
   "metadata": {
    "collapsed": false,
    "pycharm": {
     "name": "#%%\n"
    }
   }
  }
 ],
 "metadata": {
  "interpreter": {
   "hash": "a6df4f99f956271f2216113daf53bb4424045a1a04a5301999ce02b002a8d33f"
  },
  "kernelspec": {
   "display_name": "Python 3.8.12 ('mlearning')",
   "language": "python",
   "name": "python3"
  },
  "language_info": {
   "codemirror_mode": {
    "name": "ipython",
    "version": 3
   },
   "file_extension": ".py",
   "mimetype": "text/x-python",
   "name": "python",
   "nbconvert_exporter": "python",
   "pygments_lexer": "ipython3",
   "version": "3.8.12"
  },
  "orig_nbformat": 4
 },
 "nbformat": 4,
 "nbformat_minor": 2
}